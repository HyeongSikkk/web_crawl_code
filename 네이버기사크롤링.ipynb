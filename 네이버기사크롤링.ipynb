{
 "cells": [
  {
   "cell_type": "code",
   "execution_count": 1,
   "metadata": {},
   "outputs": [],
   "source": [
    "import requests\n",
    "from selenium import webdriver\n",
    "from bs4 import BeautifulSoup as BS\n",
    "import pandas as pd\n",
    "from sumy.summarizers.lsa import LsaSummarizer\n",
    "from sumy.nlp.tokenizers import Tokenizer\n",
    "from sumy.parsers.plaintext import PlaintextParser\n",
    "import datetime\n",
    "import time\n",
    "import os\n",
    "from selenium.webdriver.common.by import By\n",
    "os.chdir('C:/workspace')"
   ]
  },
  {
   "cell_type": "code",
   "execution_count": 2,
   "metadata": {},
   "outputs": [],
   "source": [
    "head = {\"User-Agent\": \"Mozilla/5.0 (Windows NT 10.0; Win64; x64) AppleWebKit/537.36 (KHTML, like Gecko) Chrome/110.0.0.0 Safari/537.36\"}"
   ]
  },
  {
   "cell_type": "code",
   "execution_count": 52,
   "metadata": {},
   "outputs": [
    {
     "data": {
      "text/plain": [
       "datetime.datetime(2023, 2, 18, 22, 20, 13, 497109)"
      ]
     },
     "execution_count": 52,
     "metadata": {},
     "output_type": "execute_result"
    }
   ],
   "source": [
    "datetime.datetime.today()"
   ]
  },
  {
   "cell_type": "code",
   "execution_count": 60,
   "metadata": {},
   "outputs": [
    {
     "ename": "KeyboardInterrupt",
     "evalue": "",
     "output_type": "error",
     "traceback": [
      "\u001b[1;31m---------------------------------------------------------------------------\u001b[0m",
      "\u001b[1;31mKeyboardInterrupt\u001b[0m                         Traceback (most recent call last)",
      "Cell \u001b[1;32mIn[60], line 59\u001b[0m\n\u001b[0;32m     57\u001b[0m         \u001b[39minput\u001b[39m(\u001b[39mf\u001b[39m\u001b[39m\"\u001b[39m\u001b[39m{\u001b[39;00murl\u001b[39m}\u001b[39;00m\u001b[39m, \u001b[39m\u001b[39m{\u001b[39;00mclick\u001b[39m}\u001b[39;00m\u001b[39m\"\u001b[39m)\n\u001b[0;32m     58\u001b[0m     driver\u001b[39m.\u001b[39mget(url)\n\u001b[1;32m---> 59\u001b[0m     time\u001b[39m.\u001b[39msleep(\u001b[39m1\u001b[39m)\n\u001b[0;32m     60\u001b[0m page \u001b[39m+\u001b[39m\u001b[39m=\u001b[39m \u001b[39m1\u001b[39m\n",
      "\u001b[1;31mKeyboardInterrupt\u001b[0m: "
     ]
    }
   ],
   "source": [
    "from selenium import webdriver\n",
    "import datetime\n",
    "from selenium.webdriver.common.by import By\n",
    "import time\n",
    "import os\n",
    "\n",
    "page = 3\n",
    "driver = webdriver.Chrome()\n",
    "title_list = []\n",
    "# 크롤링 할 날짜 설정, 현재는 하루 전 기사\n",
    "target_date = [datetime.datetime.today().year, datetime.datetime.today().month, datetime.datetime.today().day - 1]\n",
    "year = target_date[0]\n",
    "month = target_date[1]\n",
    "day = target_date[2]\n",
    "\n",
    "# 클릭할 목록\n",
    "click_list = ['#section_body > ul.type06_headline > li:nth-child(1) > dl > dt:nth-child(2) > a','#section_body > ul.type06_headline > li:nth-child(2) > dl > dt:nth-child(2) > a','#section_body > ul.type06_headline > li:nth-child(3) > dl > dt:nth-child(2) > a','#section_body > ul.type06_headline > li:nth-child(4) > dl > dt:nth-child(2) > a','#section_body > ul.type06_headline > li:nth-child(5) > dl > dt:nth-child(2) > a','#section_body > ul:nth-child(2) > li:nth-child(1) > dl > dt:nth-child(2) > a','#section_body > ul:nth-child(2) > li:nth-child(2) > dl > dt:nth-child(2) > a','#section_body > ul:nth-child(2) > li:nth-child(3) > dl > dt:nth-child(2) > a','#section_body > ul:nth-child(2) > li:nth-child(4) > dl > dt:nth-child(2) > a','#section_body > ul:nth-child(2) > li:nth-child(5) > dl > dt:nth-child(2) > a','#section_body > ul:nth-child(3) > li:nth-child(1) > dl > dt:nth-child(2) > a','#section_body > ul:nth-child(3) > li:nth-child(2) > dl > dt:nth-child(2) > a','#section_body > ul:nth-child(3) > li:nth-child(3) > dl > dt:nth-child(2) > a','#section_body > ul:nth-child(3) > li:nth-child(4) > dl > dt:nth-child(2) > a','#section_body > ul:nth-child(3) > li:nth-child(5) > dl > dt:nth-child(2) > a','#section_body > ul:nth-child(4) > li:nth-child(1) > dl > dt:nth-child(2) > a','#section_body > ul:nth-child(4) > li:nth-child(2) > dl > dt:nth-child(2) > a','#section_body > ul:nth-child(4) > li:nth-child(3) > dl > dt:nth-child(2) > a','#section_body > ul:nth-child(4) > li:nth-child(4) > dl > dt:nth-child(2) > a','#section_body > ul:nth-child(4) > li:nth-child(5) > dl > dt:nth-child(2) > a']\n",
    "\n",
    "break_signal = 0\n",
    "while break_signal == 0 :\n",
    "    url = f\"https://news.naver.com/main/main.naver?mode=LSD&mid=shm&sid1=105#&date=%2000:00:00&page={page}\"\n",
    "    driver.get(url)\n",
    "    time.sleep(1.2)\n",
    "    for click in click_list :\n",
    "        driver.find_element(By.CSS_SELECTOR, click).click()\n",
    "        time.sleep(1)\n",
    "        text = driver.page_source\n",
    "        bs = BS(text)\n",
    "        news_year = int(bs.find('div', {'class' : 'media_end_head_info_datestamp_bunch'}).find('span').text.split(\".\")[0])\n",
    "        news_month = int(bs.find('div', {'class' : 'media_end_head_info_datestamp_bunch'}).find('span').text.split(\".\")[1])\n",
    "        news_day = int(bs.find('div', {'class' : 'media_end_head_info_datestamp_bunch'}).find('span').text.split(\".\")[2])\n",
    "        if (year == news_year and month == news_month) and day == news_day :\n",
    "            title = bs.find('title').text\n",
    "            link = driver.current_url\n",
    "            for black in ['?', '\\\\', '*', \"/\", \":\", \"<\", \">\", \"|\", '\\\"'] :\n",
    "                title = title.replace(black, \"\")\n",
    "            \n",
    "            # 중복된 기사 감지 후 미중복 시 저장\n",
    "            if title not in title_list :\n",
    "                tt = bs.find('div', {'class' : \"go_trans _article_content\"}).text\n",
    "                title_list.append(title)\n",
    "            for black in ['·', '=', '(', ')', '\\'', '\\\"', '\\\\', '/', '[', ']'] :\n",
    "                tt = tt.replace(black, ' ')\n",
    "            tmp_text = ''\n",
    "            for text in tt.split() :\n",
    "                tmp_text += text + ' '\n",
    "                \n",
    "            # 해당 날짜의 디렉토리가 없을 시 생성\n",
    "            if f\"{year}{month}{day}news\" not in os.listdir() :\n",
    "                os.mkdir(f\"./{year}{month}{day}news\")\n",
    "            with open(f\"./{year}{month}{day}news/{title}.txt\", 'w', encoding = 'utf-8') as f :\n",
    "                f.write(f\"{tmp_text}\")\n",
    "            summarizer = LsaSummarizer(Tokenizer(\"한국어\"))\n",
    "            summarizer.stop_words = [\" \"]\n",
    "        # 크롤링 대상 날짜를 다 훑은 후 실행됨, 종료 명령\n",
    "        elif year == news_year and month == news_month and day > news_day :\n",
    "            break_signal = 1\n",
    "            break\n",
    "        elif year != news_year :\n",
    "            input(f\"{url}, {click}\")\n",
    "        driver.get(url)\n",
    "        time.sleep(1)\n",
    "    page += 1"
   ]
  },
  {
   "cell_type": "code",
   "execution_count": 58,
   "metadata": {},
   "outputs": [],
   "source": [
    "os.chdir(\"C:/workspace\")"
   ]
  },
  {
   "cell_type": "code",
   "execution_count": 124,
   "metadata": {},
   "outputs": [
    {
     "ename": "LookupError",
     "evalue": "NLTK tokenizers are missing or the language is not supported.\nDownload them by following command: python -c \"import nltk; nltk.download('punkt')\"\nOriginal error was:\n\n**********************************************************************\n  Resource \u001b[93mpunkt\u001b[0m not found.\n  Please use the NLTK Downloader to obtain the resource:\n\n  \u001b[31m>>> import nltk\n  >>> nltk.download('punkt')\n  \u001b[0m\n  For more information see: https://www.nltk.org/data.html\n\n  Attempted to load \u001b[93mtokenizers/punkt/한국어.pickle\u001b[0m\n\n  Searched in:\n    - 'C:\\\\Users\\\\26746/nltk_data'\n    - 'c:\\\\Users\\\\26746\\\\AppData\\\\Local\\\\Programs\\\\Python\\\\Python311\\\\nltk_data'\n    - 'c:\\\\Users\\\\26746\\\\AppData\\\\Local\\\\Programs\\\\Python\\\\Python311\\\\share\\\\nltk_data'\n    - 'c:\\\\Users\\\\26746\\\\AppData\\\\Local\\\\Programs\\\\Python\\\\Python311\\\\lib\\\\nltk_data'\n    - 'C:\\\\Users\\\\26746\\\\AppData\\\\Roaming\\\\nltk_data'\n    - 'C:\\\\nltk_data'\n    - 'D:\\\\nltk_data'\n    - 'E:\\\\nltk_data'\n    - 'C:/workspace'\n    - 'C:/workspace'\n    - 'C:/workspace/punkt/'\n    - 'C:/workspace'\n    - 'C:/workspace'\n    - 'C:/workspace/'\n    - ''\n**********************************************************************\n",
     "output_type": "error",
     "traceback": [
      "\u001b[1;31m---------------------------------------------------------------------------\u001b[0m",
      "\u001b[1;31mLookupError\u001b[0m                               Traceback (most recent call last)",
      "File \u001b[1;32mc:\\Users\\26746\\AppData\\Local\\Programs\\Python\\Python311\\Lib\\site-packages\\sumy\\nlp\\tokenizers.py:172\u001b[0m, in \u001b[0;36mTokenizer._get_sentence_tokenizer\u001b[1;34m(self, language)\u001b[0m\n\u001b[0;32m    171\u001b[0m     path \u001b[39m=\u001b[39m to_string(\u001b[39m\"\u001b[39m\u001b[39mtokenizers/punkt/\u001b[39m\u001b[39m%s\u001b[39;00m\u001b[39m.pickle\u001b[39m\u001b[39m\"\u001b[39m) \u001b[39m%\u001b[39m to_string(language)\n\u001b[1;32m--> 172\u001b[0m     \u001b[39mreturn\u001b[39;00m nltk\u001b[39m.\u001b[39;49mdata\u001b[39m.\u001b[39;49mload(path)\n\u001b[0;32m    173\u001b[0m \u001b[39mexcept\u001b[39;00m (\u001b[39mLookupError\u001b[39;00m, zipfile\u001b[39m.\u001b[39mBadZipfile) \u001b[39mas\u001b[39;00m e:\n",
      "File \u001b[1;32mc:\\Users\\26746\\AppData\\Local\\Programs\\Python\\Python311\\Lib\\site-packages\\nltk\\data.py:750\u001b[0m, in \u001b[0;36mload\u001b[1;34m(resource_url, format, cache, verbose, logic_parser, fstruct_reader, encoding)\u001b[0m\n\u001b[0;32m    749\u001b[0m \u001b[39m# Load the resource.\u001b[39;00m\n\u001b[1;32m--> 750\u001b[0m opened_resource \u001b[39m=\u001b[39m _open(resource_url)\n\u001b[0;32m    752\u001b[0m \u001b[39mif\u001b[39;00m \u001b[39mformat\u001b[39m \u001b[39m==\u001b[39m \u001b[39m\"\u001b[39m\u001b[39mraw\u001b[39m\u001b[39m\"\u001b[39m:\n",
      "File \u001b[1;32mc:\\Users\\26746\\AppData\\Local\\Programs\\Python\\Python311\\Lib\\site-packages\\nltk\\data.py:876\u001b[0m, in \u001b[0;36m_open\u001b[1;34m(resource_url)\u001b[0m\n\u001b[0;32m    875\u001b[0m \u001b[39mif\u001b[39;00m protocol \u001b[39mis\u001b[39;00m \u001b[39mNone\u001b[39;00m \u001b[39mor\u001b[39;00m protocol\u001b[39m.\u001b[39mlower() \u001b[39m==\u001b[39m \u001b[39m\"\u001b[39m\u001b[39mnltk\u001b[39m\u001b[39m\"\u001b[39m:\n\u001b[1;32m--> 876\u001b[0m     \u001b[39mreturn\u001b[39;00m find(path_, path \u001b[39m+\u001b[39;49m [\u001b[39m\"\u001b[39;49m\u001b[39m\"\u001b[39;49m])\u001b[39m.\u001b[39mopen()\n\u001b[0;32m    877\u001b[0m \u001b[39melif\u001b[39;00m protocol\u001b[39m.\u001b[39mlower() \u001b[39m==\u001b[39m \u001b[39m\"\u001b[39m\u001b[39mfile\u001b[39m\u001b[39m\"\u001b[39m:\n\u001b[0;32m    878\u001b[0m     \u001b[39m# urllib might not use mode='rb', so handle this one ourselves:\u001b[39;00m\n",
      "File \u001b[1;32mc:\\Users\\26746\\AppData\\Local\\Programs\\Python\\Python311\\Lib\\site-packages\\nltk\\data.py:583\u001b[0m, in \u001b[0;36mfind\u001b[1;34m(resource_name, paths)\u001b[0m\n\u001b[0;32m    582\u001b[0m resource_not_found \u001b[39m=\u001b[39m \u001b[39mf\u001b[39m\u001b[39m\"\u001b[39m\u001b[39m\\n\u001b[39;00m\u001b[39m{\u001b[39;00msep\u001b[39m}\u001b[39;00m\u001b[39m\\n\u001b[39;00m\u001b[39m{\u001b[39;00mmsg\u001b[39m}\u001b[39;00m\u001b[39m\\n\u001b[39;00m\u001b[39m{\u001b[39;00msep\u001b[39m}\u001b[39;00m\u001b[39m\\n\u001b[39;00m\u001b[39m\"\u001b[39m\n\u001b[1;32m--> 583\u001b[0m \u001b[39mraise\u001b[39;00m \u001b[39mLookupError\u001b[39;00m(resource_not_found)\n",
      "\u001b[1;31mLookupError\u001b[0m: \n**********************************************************************\n  Resource \u001b[93mpunkt\u001b[0m not found.\n  Please use the NLTK Downloader to obtain the resource:\n\n  \u001b[31m>>> import nltk\n  >>> nltk.download('punkt')\n  \u001b[0m\n  For more information see: https://www.nltk.org/data.html\n\n  Attempted to load \u001b[93mtokenizers/punkt/한국어.pickle\u001b[0m\n\n  Searched in:\n    - 'C:\\\\Users\\\\26746/nltk_data'\n    - 'c:\\\\Users\\\\26746\\\\AppData\\\\Local\\\\Programs\\\\Python\\\\Python311\\\\nltk_data'\n    - 'c:\\\\Users\\\\26746\\\\AppData\\\\Local\\\\Programs\\\\Python\\\\Python311\\\\share\\\\nltk_data'\n    - 'c:\\\\Users\\\\26746\\\\AppData\\\\Local\\\\Programs\\\\Python\\\\Python311\\\\lib\\\\nltk_data'\n    - 'C:\\\\Users\\\\26746\\\\AppData\\\\Roaming\\\\nltk_data'\n    - 'C:\\\\nltk_data'\n    - 'D:\\\\nltk_data'\n    - 'E:\\\\nltk_data'\n    - 'C:/workspace'\n    - 'C:/workspace'\n    - 'C:/workspace/punkt/'\n    - 'C:/workspace'\n    - 'C:/workspace'\n    - 'C:/workspace/'\n    - ''\n**********************************************************************\n",
      "\nDuring handling of the above exception, another exception occurred:\n",
      "\u001b[1;31mLookupError\u001b[0m                               Traceback (most recent call last)",
      "Cell \u001b[1;32mIn[124], line 2\u001b[0m\n\u001b[0;32m      1\u001b[0m SUMMARY_LENGTH \u001b[39m=\u001b[39m \u001b[39m3\u001b[39m\n\u001b[1;32m----> 2\u001b[0m summarizer \u001b[39m=\u001b[39m LsaSummarizer(Tokenizer(\u001b[39m\"\u001b[39;49m\u001b[39m한국어\u001b[39;49m\u001b[39m\"\u001b[39;49m))\n\u001b[0;32m      3\u001b[0m summarizer\u001b[39m.\u001b[39mstop_words \u001b[39m=\u001b[39m [\u001b[39m\"\u001b[39m\u001b[39m \u001b[39m\u001b[39m\"\u001b[39m]  \u001b[39m# 불용어 설정\u001b[39;00m\n\u001b[0;32m      4\u001b[0m parser \u001b[39m=\u001b[39m PlaintextParser\u001b[39m.\u001b[39mfrom_string(tmp_text, Tokenizer(\u001b[39m\"\u001b[39m\u001b[39m한국어\u001b[39m\u001b[39m\"\u001b[39m))\n",
      "File \u001b[1;32mc:\\Users\\26746\\AppData\\Local\\Programs\\Python\\Python311\\Lib\\site-packages\\sumy\\nlp\\tokenizers.py:160\u001b[0m, in \u001b[0;36mTokenizer.__init__\u001b[1;34m(self, language)\u001b[0m\n\u001b[0;32m    157\u001b[0m \u001b[39mself\u001b[39m\u001b[39m.\u001b[39m_language \u001b[39m=\u001b[39m language\n\u001b[0;32m    159\u001b[0m tokenizer_language \u001b[39m=\u001b[39m \u001b[39mself\u001b[39m\u001b[39m.\u001b[39mLANGUAGE_ALIASES\u001b[39m.\u001b[39mget(language, language)\n\u001b[1;32m--> 160\u001b[0m \u001b[39mself\u001b[39m\u001b[39m.\u001b[39m_sentence_tokenizer \u001b[39m=\u001b[39m \u001b[39mself\u001b[39;49m\u001b[39m.\u001b[39;49m_get_sentence_tokenizer(tokenizer_language)\n\u001b[0;32m    161\u001b[0m \u001b[39mself\u001b[39m\u001b[39m.\u001b[39m_word_tokenizer \u001b[39m=\u001b[39m \u001b[39mself\u001b[39m\u001b[39m.\u001b[39m_get_word_tokenizer(tokenizer_language)\n",
      "File \u001b[1;32mc:\\Users\\26746\\AppData\\Local\\Programs\\Python\\Python311\\Lib\\site-packages\\sumy\\nlp\\tokenizers.py:174\u001b[0m, in \u001b[0;36mTokenizer._get_sentence_tokenizer\u001b[1;34m(self, language)\u001b[0m\n\u001b[0;32m    172\u001b[0m     \u001b[39mreturn\u001b[39;00m nltk\u001b[39m.\u001b[39mdata\u001b[39m.\u001b[39mload(path)\n\u001b[0;32m    173\u001b[0m \u001b[39mexcept\u001b[39;00m (\u001b[39mLookupError\u001b[39;00m, zipfile\u001b[39m.\u001b[39mBadZipfile) \u001b[39mas\u001b[39;00m e:\n\u001b[1;32m--> 174\u001b[0m     \u001b[39mraise\u001b[39;00m \u001b[39mLookupError\u001b[39;00m(\n\u001b[0;32m    175\u001b[0m         \u001b[39m\"\u001b[39m\u001b[39mNLTK tokenizers are missing or the language is not supported.\u001b[39m\u001b[39m\\n\u001b[39;00m\u001b[39m\"\u001b[39m\n\u001b[0;32m    176\u001b[0m \u001b[39m        \u001b[39m\u001b[39m\"\"\"Download them by following command: python -c \"import nltk; nltk.download('punkt')\"\\n\"\"\"\u001b[39;00m\n\u001b[0;32m    177\u001b[0m         \u001b[39m\"\u001b[39m\u001b[39mOriginal error was:\u001b[39m\u001b[39m\\n\u001b[39;00m\u001b[39m\"\u001b[39m \u001b[39m+\u001b[39m \u001b[39mstr\u001b[39m(e)\n\u001b[0;32m    178\u001b[0m     )\n",
      "\u001b[1;31mLookupError\u001b[0m: NLTK tokenizers are missing or the language is not supported.\nDownload them by following command: python -c \"import nltk; nltk.download('punkt')\"\nOriginal error was:\n\n**********************************************************************\n  Resource \u001b[93mpunkt\u001b[0m not found.\n  Please use the NLTK Downloader to obtain the resource:\n\n  \u001b[31m>>> import nltk\n  >>> nltk.download('punkt')\n  \u001b[0m\n  For more information see: https://www.nltk.org/data.html\n\n  Attempted to load \u001b[93mtokenizers/punkt/한국어.pickle\u001b[0m\n\n  Searched in:\n    - 'C:\\\\Users\\\\26746/nltk_data'\n    - 'c:\\\\Users\\\\26746\\\\AppData\\\\Local\\\\Programs\\\\Python\\\\Python311\\\\nltk_data'\n    - 'c:\\\\Users\\\\26746\\\\AppData\\\\Local\\\\Programs\\\\Python\\\\Python311\\\\share\\\\nltk_data'\n    - 'c:\\\\Users\\\\26746\\\\AppData\\\\Local\\\\Programs\\\\Python\\\\Python311\\\\lib\\\\nltk_data'\n    - 'C:\\\\Users\\\\26746\\\\AppData\\\\Roaming\\\\nltk_data'\n    - 'C:\\\\nltk_data'\n    - 'D:\\\\nltk_data'\n    - 'E:\\\\nltk_data'\n    - 'C:/workspace'\n    - 'C:/workspace'\n    - 'C:/workspace/punkt/'\n    - 'C:/workspace'\n    - 'C:/workspace'\n    - 'C:/workspace/'\n    - ''\n**********************************************************************\n"
     ]
    }
   ],
   "source": [
    "SUMMARY_LENGTH = 3\n",
    "summarizer = LsaSummarizer(Tokenizer(\"한국어\"))\n",
    "summarizer.stop_words = [\" \"]  # 불용어 설정\n",
    "parser = PlaintextParser.from_string(tmp_text, Tokenizer(\"한국어\"))\n",
    "for sentence in summarizer(parser.document, SUMMARY_LENGTH):\n",
    "    print(sentence)"
   ]
  },
  {
   "cell_type": "code",
   "execution_count": 77,
   "metadata": {},
   "outputs": [],
   "source": [
    "tmp_text = ''\n",
    "for a in tt.split() :\n",
    "    tmp_text += a + ' '"
   ]
  },
  {
   "cell_type": "code",
   "execution_count": 1,
   "metadata": {},
   "outputs": [
    {
     "ename": "SyntaxError",
     "evalue": "invalid syntax (3956309103.py, line 2)",
     "output_type": "error",
     "traceback": [
      "\u001b[1;36m  Cell \u001b[1;32mIn[1], line 2\u001b[1;36m\u001b[0m\n\u001b[1;33m    nltk.data.path.append(\"C:/workspace/\")whgudtl\u001b[0m\n\u001b[1;37m                                          ^\u001b[0m\n\u001b[1;31mSyntaxError\u001b[0m\u001b[1;31m:\u001b[0m invalid syntax\n"
     ]
    }
   ],
   "source": [
    "import nltk\n",
    "nltk.data.path.append(\"C:/workspace/\")\n",
    "nltk.download('punkt')"
   ]
  },
  {
   "cell_type": "code",
   "execution_count": 3,
   "metadata": {},
   "outputs": [],
   "source": [
    "driver = webdriver.Chrome()"
   ]
  },
  {
   "cell_type": "code",
   "execution_count": 4,
   "metadata": {},
   "outputs": [],
   "source": [
    "driver.get(\"https://www.naver.com\")"
   ]
  },
  {
   "cell_type": "code",
   "execution_count": 3,
   "metadata": {},
   "outputs": [],
   "source": [
    "import time\n",
    "from selenium import webdriver\n",
    "from selenium.webdriver import ActionChains\n",
    "\n",
    "driver = webdriver.Chrome()\n",
    "driver.implicitly_wait(3)\n",
    "\n",
    "driver.get('https://news.naver.com/main/main.naver?mode=LSD&mid=shm&sid1=105#&date=%2000:00:00&page=1')"
   ]
  },
  {
   "cell_type": "code",
   "execution_count": 4,
   "metadata": {},
   "outputs": [],
   "source": [
    "text = driver.page_source\n",
    "bs = BS(text)"
   ]
  },
  {
   "cell_type": "code",
   "execution_count": null,
   "metadata": {},
   "outputs": [],
   "source": [
    "from selenium import webdriver\n",
    "import datetime\n",
    "from selenium.webdriver.common.by import By\n",
    "import time\n",
    "import os\n",
    "\n",
    "page = 3\n",
    "driver = webdriver.Chrome()\n",
    "title_list = []\n",
    "# 크롤링 할 날짜 설정, 현재는 하루 전 기사\n",
    "target_date = [datetime.datetime.today().year, datetime.datetime.today().month, datetime.datetime.today().day - 1]\n",
    "year = target_date[0]\n",
    "month = target_date[1]\n",
    "day = target_date[2]\n",
    "\n",
    "# 클릭할 목록\n",
    "click_list = [\n",
    "    '#section_body > ul.type06_headline > li:nth-child(1) > dl > dt:nth-child(2) > a',\n",
    "    '#section_body > ul.type06_headline > li:nth-child(2) > dl > dt:nth-child(2) > a',\n",
    "    '#section_body > ul.type06_headline > li:nth-child(3) > dl > dt:nth-child(2) > a',\n",
    "    '#section_body > ul.type06_headline > li:nth-child(4) > dl > dt:nth-child(2) > a',\n",
    "    '#section_body > ul.type06_headline > li:nth-child(5) > dl > dt:nth-child(2) > a',\n",
    "    '#section_body > ul:nth-child(2) > li:nth-child(1) > dl > dt:nth-child(2) > a',\n",
    "    '#section_body > ul:nth-child(2) > li:nth-child(2) > dl > dt:nth-child(2) > a',\n",
    "    '#section_body > ul:nth-child(2) > li:nth-child(3) > dl > dt:nth-child(2) > a',\n",
    "    '#section_body > ul:nth-child(2) > li:nth-child(4) > dl > dt:nth-child(2) > a',\n",
    "    '#section_body > ul:nth-child(2) > li:nth-child(5) > dl > dt:nth-child(2) > a',\n",
    "    '#section_body > ul:nth-child(3) > li:nth-child(1) > dl > dt:nth-child(2) > a',\n",
    "    '#section_body > ul:nth-child(3) > li:nth-child(2) > dl > dt:nth-child(2) > a',\n",
    "    '#section_body > ul:nth-child(3) > li:nth-child(3) > dl > dt:nth-child(2) > a',\n",
    "    '#section_body > ul:nth-child(3) > li:nth-child(4) > dl > dt:nth-child(2) > a',\n",
    "    '#section_body > ul:nth-child(3) > li:nth-child(5) > dl > dt:nth-child(2) > a',\n",
    "    '#section_body > ul:nth-child(4) > li:nth-child(1) > dl > dt:nth-child(2) > a',\n",
    "    '#section_body > ul:nth-child(4) > li:nth-child(2) > dl > dt:nth-child(2) > a',\n",
    "    '#section_body > ul:nth-child(4) > li:nth-child(3) > dl > dt:nth-child(2) > a',\n",
    "    '#section_body > ul:nth-child(4) > li:nth-child(4) > dl > dt:nth-child(2) > a',\n",
    "    '#section_body > ul:nth-child(4) > li:nth-child(5) > dl > dt:nth-child(2) > a',\n",
    "    ]\n",
    "\n",
    "break_signal = True\n",
    "while break_signal :\n",
    "    url = f\"https://news.naver.com/main/main.naver?mode=LSD&mid=shm&sid1=105#&date=%2000:00:00&page={page}\"\n",
    "    driver.get(url)\n",
    "    time.sleep(1.2)\n",
    "    for click in click_list :\n",
    "        driver.find_element(By.CSS_SELECTOR, click).click()\n",
    "        time.sleep(1)\n",
    "        text = driver.page_source\n",
    "        bs = BS(text)\n",
    "        news_year = int(bs.find('div', {'class' : 'media_end_head_info_datestamp_bunch'}).find('span').text.split(\".\")[0])\n",
    "        news_month = int(bs.find('div', {'class' : 'media_end_head_info_datestamp_bunch'}).find('span').text.split(\".\")[1])\n",
    "        news_day = int(bs.find('div', {'class' : 'media_end_head_info_datestamp_bunch'}).find('span').text.split(\".\")[2])\n",
    "        if (year == news_year and month == news_month) and day == news_day :\n",
    "            title = bs.find('title').text\n",
    "            link = driver.current_url\n",
    "            for black in ['?', '\\\\', '*', \"/\", \":\", \"<\", \">\", \"|\", '\\\"'] :\n",
    "                title = title.replace(black, \"\")\n",
    "            \n",
    "            # 중복된 기사 감지 후 미중복 시 저장\n",
    "            if title not in title_list :\n",
    "                tt = bs.find('div', {'class' : \"go_trans _article_content\"}).text\n",
    "                title_list.append(title)\n",
    "            for black in ['·', '=', '(', ')', '\\'', '\\\"', '\\\\', '/', '[', ']'] :\n",
    "                tt = tt.replace(black, ' ')\n",
    "            tmp_text = ''\n",
    "            for text in tt.split() :\n",
    "                tmp_text += text + ' '\n",
    "                \n",
    "            # 해당 날짜의 디렉토리가 없을 시 생성\n",
    "            if f\"{year}{month}{day}news\" not in os.listdir() :\n",
    "                os.mkdir(f\"./{year}{month}{day}news\")\n",
    "            with open(f\"./{year}{month}{day}news/{title}.txt\", 'w', encoding = 'utf-8') as f :\n",
    "                f.write(f\"{tmp_text}\")\n",
    "            summarizer = LsaSummarizer(Tokenizer(\"한국어\"))\n",
    "            summarizer.stop_words = [\" \"]\n",
    "        # 크롤링 대상 날짜를 다 훑은 후 실행됨, 종료 명령\n",
    "        elif year == news_year and month == news_month and day > news_day :\n",
    "            break_signal = False\n",
    "            break\n",
    "        elif year != news_year :\n",
    "            input(f\"{url}, {click}\")\n",
    "        driver.get(url)\n",
    "        time.sleep(1)\n",
    "    page += 1"
   ]
  },
  {
   "cell_type": "code",
   "execution_count": 6,
   "metadata": {},
   "outputs": [],
   "source": [
    "news_url = bs.find(id = 'section_body').findAll('li')[0].find('a')['href']\n",
    "r = requests.get(news_url, headers = head)"
   ]
  },
  {
   "cell_type": "code",
   "execution_count": 40,
   "metadata": {},
   "outputs": [
    {
     "data": {
      "text/plain": [
       "<script type=\"text/javascript\">\n",
       "var _MAIN_NEWS_MENU_ID='shm';\n",
       "var _MAIN_NEWS_SECTION_ID='103';\n",
       "var ccsrv='cc.naver.com';\n",
       "var g_ssc='news.sec';\n",
       "window.nsc = g_ssc; \n",
       "var gnb_service='news';\n",
       "var gnb_logout=encodeURIComponent(location.href);\n",
       "var gnb_template='gnb_utf8';\n",
       "var gnb_brightness = 3;\n",
       "var gnb_searchbox='on';\n",
       "var gnb_shortnick='on';\n",
       "\n",
       "var gnb_timestamp = \"Mon Feb 20 23:09:57 KST 2023\";\n",
       "</script>"
      ]
     },
     "execution_count": 40,
     "metadata": {},
     "output_type": "execute_result"
    }
   ],
   "source": [
    "bs_r = BS(r.text, 'html.parser')\n",
    "bs_r.findAll('script', type=\"text/javascript\")[2]"
   ]
  },
  {
   "cell_type": "code",
   "execution_count": 29,
   "metadata": {},
   "outputs": [],
   "source": [
    "r2 = requests.get('https://n.news.naver.com/mnews/article/469/0000724534?sid=105', headers = head)\n",
    "bs_r2 = BS(r2.text, 'html.parser')"
   ]
  },
  {
   "cell_type": "code",
   "execution_count": 41,
   "metadata": {},
   "outputs": [
    {
     "ename": "IndexError",
     "evalue": "list index out of range",
     "output_type": "error",
     "traceback": [
      "\u001b[1;31m---------------------------------------------------------------------------\u001b[0m",
      "\u001b[1;31mIndexError\u001b[0m                                Traceback (most recent call last)",
      "Cell \u001b[1;32mIn[41], line 1\u001b[0m\n\u001b[1;32m----> 1\u001b[0m bs_r2\u001b[39m.\u001b[39;49mfindAll(\u001b[39m'\u001b[39;49m\u001b[39mscript\u001b[39;49m\u001b[39m'\u001b[39;49m, \u001b[39mtype\u001b[39;49m\u001b[39m=\u001b[39;49m\u001b[39m\"\u001b[39;49m\u001b[39mtext/javascript\u001b[39;49m\u001b[39m\"\u001b[39;49m)[\u001b[39m2\u001b[39;49m]\n",
      "\u001b[1;31mIndexError\u001b[0m: list index out of range"
     ]
    }
   ],
   "source": [
    "bs_r2.findAll('script', type=\"text/javascript\")[2]"
   ]
  },
  {
   "cell_type": "code",
   "execution_count": 16,
   "metadata": {},
   "outputs": [
    {
     "ename": "IndexError",
     "evalue": "list index out of range",
     "output_type": "error",
     "traceback": [
      "\u001b[1;31m---------------------------------------------------------------------------\u001b[0m",
      "\u001b[1;31mIndexError\u001b[0m                                Traceback (most recent call last)",
      "Cell \u001b[1;32mIn[16], line 4\u001b[0m\n\u001b[0;32m      2\u001b[0m r \u001b[39m=\u001b[39m requests\u001b[39m.\u001b[39mget(url, headers \u001b[39m=\u001b[39m head)\n\u001b[0;32m      3\u001b[0m bs \u001b[39m=\u001b[39m BS(r\u001b[39m.\u001b[39mtext, \u001b[39m'\u001b[39m\u001b[39mhtml.parser\u001b[39m\u001b[39m'\u001b[39m)\n\u001b[1;32m----> 4\u001b[0m bs\u001b[39m.\u001b[39;49mfind(\u001b[39mid\u001b[39;49m \u001b[39m=\u001b[39;49m \u001b[39m'\u001b[39;49m\u001b[39msection_body\u001b[39;49m\u001b[39m'\u001b[39;49m)\u001b[39m.\u001b[39;49mfindAll(\u001b[39m'\u001b[39;49m\u001b[39mli\u001b[39;49m\u001b[39m'\u001b[39;49m)[\u001b[39m0\u001b[39;49m]\u001b[39m.\u001b[39mfind(\u001b[39m'\u001b[39m\u001b[39ma\u001b[39m\u001b[39m'\u001b[39m)[\u001b[39m'\u001b[39m\u001b[39mhref\u001b[39m\u001b[39m'\u001b[39m]\n",
      "\u001b[1;31mIndexError\u001b[0m: list index out of range"
     ]
    }
   ],
   "source": [
    "url = \"https://news.naver.com/main/main.naver?mode=LSD&mid=shm&sid1=105#&date=%2000:00:00&page=1\"\n",
    "r = requests.get(url, headers = head)\n",
    "bs = BS(r.text, 'html.parser')\n",
    "bs.find(id = 'section_body').findAll('li')[0].find('a')['href']"
   ]
  },
  {
   "cell_type": "code",
   "execution_count": 18,
   "metadata": {},
   "outputs": [
    {
     "data": {
      "text/plain": [
       "<div class=\"section_body\" id=\"section_body\"><ul class=\"type06_headline\">\n",
       "<li><dl><dt class=\"photo\"><a class=\"nclicks(itn.airscont,'880000BC_000000000000000005091310', 'airsGParam', '0', 'news_sec_v2.0', 'E5P4RBy1WFPV178d')\" href=\"https://n.news.naver.com/mnews/article/009/0005091310?sid=105\"><img alt=\"\" height=\"72\" onerror=\"javascript:this.src='https://ssl.pstatic.net/static.news/image/news/2009/noimage_106x72.png';\" src=\"https://mimgnews.pstatic.net/image/origin/009/2023/02/20/5091310.jpg?type=nf106_72\" width=\"106\"/></a></dt><dt><a class=\"nclicks(itn.airscont,'880000BC_000000000000000005091310', 'airsGParam', '0', 'news_sec_v2.0', 'E5P4RBy1WFPV178d')\" href=\"https://n.news.naver.com/mnews/article/009/0005091310?sid=105\">“내 알바자리 뺏는 거야?”…700m 커피 배달한 일개미 정체는</a></dt><dd class=\"\" data-comment=\"{gno:'news009,0005091310',params:{sid1:'105'},nclicks:'cmt.count',type:'sectionHomeList'}\"><span class=\"lede\">자율주행 배송 로봇의 진화 초당 억 단위 연산 처리로 30km 무인 배송도 거뜬히 …</span><span class=\"writing\">매일경제</span><span class=\"date is_new\">45분전</span><a class=\"count_cmt\" href=\"/main/read.naver?oid=009&amp;aid=0005091310&amp;mid=shm&amp;sid1=105&amp;m_view=1&amp;m_url=%2Fcomment%2Fall.nhn%3FserviceId%3Dnews%26gno%3Dnews009%2C0005091310%26sort%3Dlikability\">10<span class=\"count_cmt_symbol\"><span class=\"blind\">이상</span>+</span></a></dd></dl></li><li><dl><dt class=\"photo\"><a class=\"nclicks(itn.airscont,'88156f75_000000000000000000724534', 'airsGParam', '0', 'news_sec_v2.0', 'E5P4RBy1WFPV178d')\" href=\"https://n.news.naver.com/mnews/article/469/0000724534?sid=105\"><img alt=\"\" height=\"72\" onerror=\"javascript:this.src='https://ssl.pstatic.net/static.news/image/news/2009/noimage_106x72.png';\" src=\"https://mimgnews.pstatic.net/image/origin/469/2023/02/20/724534.jpg?type=nf106_72\" width=\"106\"/></a></dt><dt><a class=\"nclicks(itn.airscont,'88156f75_000000000000000000724534', 'airsGParam', '0', 'news_sec_v2.0', 'E5P4RBy1WFPV178d')\" href=\"https://n.news.naver.com/mnews/article/469/0000724534?sid=105\">애플페이 등장에 오프라인 1위 삼성페이·온라인 1위 네이버페이가 손잡다</a></dt><dd class=\"\" data-comment=\"{gno:'news469,0000724534',params:{sid1:'105'},nclicks:'cmt.count',type:'sectionHomeList'}\"><span class=\"lede\">오프라인 간편결제 1위 삼성페이와 온라인 간편결제 1위 네이버페이가 손을 잡았다. …</span><span class=\"writing\">한국일보</span><span class=\"date is_outdated\">2시간전</span><a class=\"count_cmt\" href=\"/main/read.naver?oid=469&amp;aid=0000724534&amp;mid=shm&amp;sid1=105&amp;m_view=1&amp;m_url=%2Fcomment%2Fall.nhn%3FserviceId%3Dnews%26gno%3Dnews469%2C0000724534%26sort%3Dlikability\">10<span class=\"count_cmt_symbol\"><span class=\"blind\">이상</span>+</span></a></dd></dl></li><li><dl><dt class=\"photo\"><a class=\"nclicks(itn.airscont,'8800010E_000000000000000002106693', 'airsGParam', '0', 'news_sec_v2.0', 'E5P4RBy1WFPV178d')\" href=\"https://n.news.naver.com/mnews/article/016/0002106693?sid=105\"><img alt=\"\" height=\"72\" onerror=\"javascript:this.src='https://ssl.pstatic.net/static.news/image/news/2009/noimage_106x72.png';\" src=\"https://mimgnews.pstatic.net/image/origin/016/2023/02/20/2106693.jpg?type=nf106_72\" width=\"106\"/></a></dt><dt><a class=\"nclicks(itn.airscont,'8800010E_000000000000000002106693', 'airsGParam', '0', 'news_sec_v2.0', 'E5P4RBy1WFPV178d')\" href=\"https://n.news.naver.com/mnews/article/016/0002106693?sid=105\">“삼성 쫓아내더니” 애플 노골적 중국 사랑…결국 터질게 터졌다</a></dt><dd class=\"\" data-comment=\"{gno:'news016,0002106693',params:{sid1:'105'},nclicks:'cmt.count',type:'sectionHomeList'}\"><span class=\"lede\">“중국만 믿었던 애플 뒷통수 제대로 맞은 격” 삼성을 중국에서 거의 쫓아냈다는 말 …</span><span class=\"writing\">헤럴드경제</span><span class=\"date is_outdated\">2시간전</span><a class=\"count_cmt\" href=\"/main/read.naver?oid=016&amp;aid=0002106693&amp;mid=shm&amp;sid1=105&amp;m_view=1&amp;m_url=%2Fcomment%2Fall.nhn%3FserviceId%3Dnews%26gno%3Dnews016%2C0002106693%26sort%3Dlikability\">10<span class=\"count_cmt_symbol\"><span class=\"blind\">이상</span>+</span></a></dd></dl></li><li><dl><dt class=\"photo\"><a class=\"nclicks(itn.airscont,'880000EA_000000000000000003079647', 'airsGParam', '0', 'news_sec_v2.0', 'E5P4RBy1WFPV178d')\" href=\"https://n.news.naver.com/mnews/article/030/0003079647?sid=105\"><img alt=\"\" height=\"72\" onerror=\"javascript:this.src='https://ssl.pstatic.net/static.news/image/news/2009/noimage_106x72.png';\" src=\"https://mimgnews.pstatic.net/image/origin/030/2023/02/20/3079647.jpg?type=nf106_72\" width=\"106\"/></a></dt><dt><a class=\"nclicks(itn.airscont,'880000EA_000000000000000003079647', 'airsGParam', '0', 'news_sec_v2.0', 'E5P4RBy1WFPV178d')\" href=\"https://n.news.naver.com/mnews/article/030/0003079647?sid=105\">SM 아티스트, 멘트서 '脫 이수만' 릴레이…1분기 신보 無 속 '자존심 지키기 vs 살얼음판'</a></dt><dd class=\"\" data-comment=\"{gno:'news030,0003079647',params:{sid1:'105'},nclicks:'cmt.count',type:'sectionHomeList'}\"><span class=\"lede\">폭로전과 공방전으로 치닫는 SM경영권 분쟁이 아티스트의 '탈 이수만' 멘트와 1분 …</span><span class=\"writing\">전자신문</span><span class=\"date is_outdated\">3시간전</span></dd></dl></li><li><dl><dt class=\"photo\"><a class=\"nclicks(itn.airscont,'8822bt5c_000000000000000000000487', 'airsGParam', '0', 'news_sec_v2.0', 'E5P4RBy1WFPV178d')\" href=\"https://n.news.naver.com/mnews/article/665/0000000487?sid=105\"><img alt=\"\" height=\"72\" onerror=\"javascript:this.src='https://ssl.pstatic.net/static.news/image/news/2009/noimage_106x72.png';\" src=\"https://mimgnews.pstatic.net/image/origin/665/2023/02/20/487.jpg?type=nf106_72\" width=\"106\"/></a></dt><dt><a class=\"nclicks(itn.airscont,'8822bt5c_000000000000000000000487', 'airsGParam', '0', 'news_sec_v2.0', 'E5P4RBy1WFPV178d')\" href=\"https://n.news.naver.com/mnews/article/665/0000000487?sid=105\">이통사 vs 빅테크 '망 전쟁'과 소비자란 볼모</a></dt><dd class=\"\" data-comment=\"{gno:'news665,0000000487',params:{sid1:'105'},nclicks:'cmt.count',type:'sectionHomeList'}\"><span class=\"lede\"># 지난해 통신 업계를 뜨겁게 달군 건 망 사용료 논쟁이다. 통신사와 해외 빅테크 …</span><span class=\"writing\">더스쿠프</span><span class=\"date is_outdated\">3시간전</span></dd></dl></li></ul>\n",
       "<ul class=\"type06\">\n",
       "<li><dl><dt class=\"photo\"><a class=\"nclicks(itn.airscont,'880000FF_000000000000000004971917', 'airsGParam', '0', 'news_sec_v2.0', 'E5P4RBy1WFPV178d')\" href=\"https://n.news.naver.com/mnews/article/014/0004971917?sid=105\"><img alt=\"\" height=\"72\" onerror=\"javascript:this.src='https://ssl.pstatic.net/static.news/image/news/2009/noimage_106x72.png';\" src=\"https://mimgnews.pstatic.net/image/origin/014/2023/02/20/4971917.jpg?type=nf106_72\" width=\"106\"/></a></dt><dt><a class=\"nclicks(itn.airscont,'880000FF_000000000000000004971917', 'airsGParam', '0', 'news_sec_v2.0', 'E5P4RBy1WFPV178d')\" href=\"https://n.news.naver.com/mnews/article/014/0004971917?sid=105\">\"1등 삼성 잡아라\" 폴더블폰 쏟아내는 中</a></dt><dd class=\"\" data-comment=\"{gno:'news014,0004971917',params:{sid1:'105'},nclicks:'cmt.count',type:'sectionHomeList'}\"><span class=\"lede\">중국 휴대폰 제조사인 오포의 첫번째 플립(위아래로 접는 방식)형 폴더블폰 오포 파 …</span><span class=\"writing\">파이낸셜뉴스</span><span class=\"date is_outdated\">4시간전</span></dd></dl></li><li><dl><dt class=\"photo\"><a class=\"nclicks(itn.airscont,'8800010E_000000000000000002106655', 'airsGParam', '0', 'news_sec_v2.0', 'E5P4RBy1WFPV178d')\" href=\"https://n.news.naver.com/mnews/article/016/0002106655?sid=105\"><img alt=\"\" height=\"72\" onerror=\"javascript:this.src='https://ssl.pstatic.net/static.news/image/news/2009/noimage_106x72.png';\" src=\"https://mimgnews.pstatic.net/image/origin/016/2023/02/20/2106655.jpg?type=nf106_72\" width=\"106\"/></a></dt><dt><a class=\"nclicks(itn.airscont,'8800010E_000000000000000002106655', 'airsGParam', '0', 'news_sec_v2.0', 'E5P4RBy1WFPV178d')\" href=\"https://n.news.naver.com/mnews/article/016/0002106655?sid=105\">”‘식객 허영만’이 쓴 이 안경이 뭐라고” 100억원이나 몰렸다?</a></dt><dd class=\"\" data-comment=\"{gno:'news016,0002106655',params:{sid1:'105'},nclicks:'cmt.count',type:'sectionHomeList'}\"><span class=\"lede\">한국 만화를 대표하는 허영만 화백. 그가 요즘 방송 등에 나올 때마다 꼭 착용하는 …</span><span class=\"writing\">헤럴드경제</span><span class=\"date is_outdated\">4시간전</span><a class=\"count_cmt\" href=\"/main/read.naver?oid=016&amp;aid=0002106655&amp;mid=shm&amp;sid1=105&amp;m_view=1&amp;m_url=%2Fcomment%2Fall.nhn%3FserviceId%3Dnews%26gno%3Dnews016%2C0002106655%26sort%3Dlikability\">50<span class=\"count_cmt_symbol\"><span class=\"blind\">이상</span>+</span></a></dd></dl></li><li><dl><dt class=\"photo\"><a class=\"nclicks(itn.airscont,'880000D6_000000000000000000729793', 'airsGParam', '0', 'news_sec_v2.0', 'E5P4RBy1WFPV178d')\" href=\"https://n.news.naver.com/mnews/article/031/0000729793?sid=105\"><img alt=\"\" height=\"72\" onerror=\"javascript:this.src='https://ssl.pstatic.net/static.news/image/news/2009/noimage_106x72.png';\" src=\"https://mimgnews.pstatic.net/image/origin/031/2023/02/20/729793.jpg?type=nf106_72\" width=\"106\"/></a></dt><dt><a class=\"nclicks(itn.airscont,'880000D6_000000000000000000729793', 'airsGParam', '0', 'news_sec_v2.0', 'E5P4RBy1WFPV178d')\" href=\"https://n.news.naver.com/mnews/article/031/0000729793?sid=105\">韓 6G 상용화 앞당긴다…'K-네트워크 2030 전략' 발표 (종합)</a></dt><dd class=\"\" data-comment=\"{gno:'news031,0000729793',params:{sid1:'105'},nclicks:'cmt.count',type:'sectionHomeList'}\"><span class=\"lede\">6G 상용화 시기를 오는 2028년으로 앞당긴 선진국 추세에 발맞춰 우리나라 역시 …</span><span class=\"writing\">아이뉴스24</span><span class=\"date is_outdated\">4시간전</span><a class=\"count_cmt\" href=\"/main/read.naver?oid=031&amp;aid=0000729793&amp;mid=shm&amp;sid1=105&amp;m_view=1&amp;m_url=%2Fcomment%2Fall.nhn%3FserviceId%3Dnews%26gno%3Dnews031%2C0000729793%26sort%3Dlikability\">10<span class=\"count_cmt_symbol\"><span class=\"blind\">이상</span>+</span></a></dd></dl></li><li><dl><dt class=\"photo\"><a class=\"nclicks(itn.airscont,'880000FF_000000000000000004971853', 'airsGParam', '0', 'news_sec_v2.0', 'E5P4RBy1WFPV178d')\" href=\"https://n.news.naver.com/mnews/article/014/0004971853?sid=105\"><img alt=\"\" height=\"72\" onerror=\"javascript:this.src='https://ssl.pstatic.net/static.news/image/news/2009/noimage_106x72.png';\" src=\"https://mimgnews.pstatic.net/image/origin/014/2023/02/20/4971853.jpg?type=nf106_72\" width=\"106\"/></a></dt><dt><a class=\"nclicks(itn.airscont,'880000FF_000000000000000004971853', 'airsGParam', '0', 'news_sec_v2.0', 'E5P4RBy1WFPV178d')\" href=\"https://n.news.naver.com/mnews/article/014/0004971853?sid=105\">2028년 '6G 시대' 활짝… 2027년엔 저궤도통신위성 쏜다 [신성장 4.0 로드맵 나왔다]</a></dt><dd class=\"\" data-comment=\"{gno:'news014,0004971853',params:{sid1:'105'},nclicks:'cmt.count',type:'sectionHomeList'}\"><span class=\"lede\">정부는 6세대(6G) 이동통신 패권 경쟁에서 앞서 나가기 위해 이르면 오는 202 …</span><span class=\"writing\">파이낸셜뉴스</span><span class=\"date is_outdated\">4시간전</span><a class=\"count_cmt\" href=\"/main/read.naver?oid=014&amp;aid=0004971853&amp;mid=shm&amp;sid1=105&amp;m_view=1&amp;m_url=%2Fcomment%2Fall.nhn%3FserviceId%3Dnews%26gno%3Dnews014%2C0004971853%26sort%3Dlikability\">30<span class=\"count_cmt_symbol\"><span class=\"blind\">이상</span>+</span></a></dd></dl></li><li><dl><dt class=\"photo\"><a class=\"nclicks(itn.airscont,'881999s8_000000000000000000201865', 'airsGParam', '0', 'news_sec_v2.0', 'R3uRwtZsLMO10vvq')\" href=\"https://n.news.naver.com/mnews/article/629/0000201865?sid=105\"><img alt=\"\" height=\"72\" onerror=\"javascript:this.src='https://ssl.pstatic.net/static.news/image/news/2009/noimage_106x72.png';\" src=\"https://mimgnews.pstatic.net/image/origin/629/2023/02/20/201865.jpg?type=nf106_72\" width=\"106\"/></a></dt><dt><a class=\"nclicks(itn.airscont,'881999s8_000000000000000000201865', 'airsGParam', '0', 'news_sec_v2.0', 'R3uRwtZsLMO10vvq')\" href=\"https://n.news.naver.com/mnews/article/629/0000201865?sid=105\">특허 소송 휘말린 애플워치, 내일(21일)부터 미국 내 수입 금지되나</a></dt><dd class=\"\" data-comment=\"{gno:'news629,0000201865',params:{sid1:'105'},nclicks:'cmt.count',type:'sectionHomeList'}\"><span class=\"lede\">작년 12월 ITC 애플에 특허 침해 판결 20일(현지시간) 조 바이든 미국 대통 …</span><span class=\"writing\">더팩트</span><span class=\"date is_outdated\">4시간전</span></dd></dl></li></ul>\n",
       "<ul class=\"type06\">\n",
       "<li><dl><dt class=\"photo\"><a class=\"nclicks(itn.airscont,'880000A9_000000000000000003480842', 'airsGParam', '0', 'news_sec_v2.0', 'E5P4RBy1WFPV178d')\" href=\"https://n.news.naver.com/mnews/article/020/0003480842?sid=105\"><img alt=\"\" height=\"72\" onerror=\"javascript:this.src='https://ssl.pstatic.net/static.news/image/news/2009/noimage_106x72.png';\" src=\"https://mimgnews.pstatic.net/image/origin/020/2023/02/20/3480842.jpg?type=nf106_72\" width=\"106\"/></a></dt><dt><a class=\"nclicks(itn.airscont,'880000A9_000000000000000003480842', 'airsGParam', '0', 'news_sec_v2.0', 'E5P4RBy1WFPV178d')\" href=\"https://n.news.naver.com/mnews/article/020/0003480842?sid=105\">[메타버스에 올라타자] 2. 메타버스에 관심 가져야 하는 이유</a></dt><dd class=\"\" data-comment=\"{gno:'news020,0003480842',params:{sid1:'105'},nclicks:'cmt.count',type:'sectionHomeList'}\"><span class=\"lede\">최근 메타버스를 향한 시선은 현저히 두 분류로 나뉘고 있다는 생각이 든다. 구글과 …</span><span class=\"writing\">동아일보</span><span class=\"date is_outdated\">4시간전</span></dd></dl></li><li><dl><dt class=\"photo\"><a class=\"nclicks(itn.airscont,'88127058_000000000000000000879099', 'airsGParam', '0', 'news_sec_v2.0', 'E5P4RBy1WFPV178d')\" href=\"https://n.news.naver.com/mnews/article/366/0000879099?sid=105\"><img alt=\"\" height=\"72\" onerror=\"javascript:this.src='https://ssl.pstatic.net/static.news/image/news/2009/noimage_106x72.png';\" src=\"https://mimgnews.pstatic.net/image/origin/366/2023/02/20/879099.jpg?type=nf106_72\" width=\"106\"/></a></dt><dt><a class=\"nclicks(itn.airscont,'88127058_000000000000000000879099', 'airsGParam', '0', 'news_sec_v2.0', 'E5P4RBy1WFPV178d')\" href=\"https://n.news.naver.com/mnews/article/366/0000879099?sid=105\">KT 차기 대표에 ‘정치권 낙하산’ 대거 지원… 내로남불·전문성 논란 거셀 듯</a></dt><dd class=\"\" data-comment=\"{gno:'news366,0000879099',params:{sid1:'105'},nclicks:'cmt.count',type:'sectionHomeList'}\"><span class=\"lede\">권은희 前 의원 과거 인터뷰서 “KT, 정치권 인사 영입 안돼” 정치권 인사들,  …</span><span class=\"writing\">조선비즈</span><span class=\"date is_outdated\">4시간전</span><a class=\"count_cmt\" href=\"/main/read.naver?oid=366&amp;aid=0000879099&amp;mid=shm&amp;sid1=105&amp;m_view=1&amp;m_url=%2Fcomment%2Fall.nhn%3FserviceId%3Dnews%26gno%3Dnews366%2C0000879099%26sort%3Dlikability\">50<span class=\"count_cmt_symbol\"><span class=\"blind\">이상</span>+</span></a></dd></dl></li><li><dl><dt class=\"photo\"><a class=\"nclicks(itn.airscont,'88000108_000000000000000004158620', 'airsGParam', '0', 'news_sec_v2.0', 'E5P4RBy1WFPV178d')\" href=\"https://n.news.naver.com/mnews/article/011/0004158620?sid=105\"><img alt=\"\" height=\"72\" onerror=\"javascript:this.src='https://ssl.pstatic.net/static.news/image/news/2009/noimage_106x72.png';\" src=\"https://mimgnews.pstatic.net/image/origin/011/2023/02/20/4158620.jpg?type=nf106_72\" width=\"106\"/></a></dt><dt><a class=\"nclicks(itn.airscont,'88000108_000000000000000004158620', 'airsGParam', '0', 'news_sec_v2.0', 'E5P4RBy1WFPV178d')\" href=\"https://n.news.naver.com/mnews/article/011/0004158620?sid=105\">KT대표 윤진식·권은희도 도전…구현모 연임 '안갯속'</a></dt><dd class=\"\" data-comment=\"{gno:'news011,0004158620',params:{sid1:'105'},nclicks:'cmt.count',type:'sectionHomeList'}\"><span class=\"lede\">KT(030200) 차기 대표 공모에 권은희 전 새누리당 의원과 김성태 전 자유한 …</span><span class=\"writing\">서울경제</span><span class=\"date is_outdated\">4시간전</span></dd></dl></li><li><dl><dt class=\"photo\"><a class=\"nclicks(itn.airscont,'880003A5_000000000000000000042523', 'airsGParam', '0', 'news_sec_v2.0', 'E5P4RBy1WFPV178d')\" href=\"https://n.news.naver.com/mnews/article/293/0000042523?sid=105\"><img alt=\"\" height=\"72\" onerror=\"javascript:this.src='https://ssl.pstatic.net/static.news/image/news/2009/noimage_106x72.png';\" src=\"https://mimgnews.pstatic.net/image/origin/293/2023/02/20/42523.jpg?type=nf106_72\" width=\"106\"/></a></dt><dt><a class=\"nclicks(itn.airscont,'880003A5_000000000000000000042523', 'airsGParam', '0', 'news_sec_v2.0', 'E5P4RBy1WFPV178d')\" href=\"https://n.news.naver.com/mnews/article/293/0000042523?sid=105\">'KT 출신도 ICT 전문가도 아닌데' KT CEO에 도전장…회사 미래 이끌수 있나</a></dt><dd class=\"\" data-comment=\"{gno:'news293,0000042523',params:{sid1:'105'},nclicks:'cmt.count',type:'sectionHomeList'}\"><span class=\"lede\">KT가 공개경쟁 방식으로 차기 최고경영자(CEO) 선정에 돌입한 가운데 KT 출신 …</span><span class=\"writing\">블로터</span><span class=\"date is_outdated\">5시간전</span><a class=\"count_cmt\" href=\"/main/read.naver?oid=293&amp;aid=0000042523&amp;mid=shm&amp;sid1=105&amp;m_view=1&amp;m_url=%2Fcomment%2Fall.nhn%3FserviceId%3Dnews%26gno%3Dnews293%2C0000042523%26sort%3Dlikability\">10<span class=\"count_cmt_symbol\"><span class=\"blind\">이상</span>+</span></a></dd></dl></li><li><dl><dt class=\"photo\"><a class=\"nclicks(itn.airscont,'8800010E_000000000000000002106642', 'airsGParam', '0', 'news_sec_v2.0', 'E5P4RBy1WFPV178d')\" href=\"https://n.news.naver.com/mnews/article/016/0002106642?sid=105\"><img alt=\"\" height=\"72\" onerror=\"javascript:this.src='https://ssl.pstatic.net/static.news/image/news/2009/noimage_106x72.png';\" src=\"https://mimgnews.pstatic.net/image/origin/016/2023/02/20/2106642.jpg?type=nf106_72\" width=\"106\"/></a></dt><dt><a class=\"nclicks(itn.airscont,'8800010E_000000000000000002106642', 'airsGParam', '0', 'news_sec_v2.0', 'E5P4RBy1WFPV178d')\" href=\"https://n.news.naver.com/mnews/article/016/0002106642?sid=105\">“어떤 사진이 더 낫나요?” 갤럭시S23 vs 600만원 소니 카메라, 승자는</a></dt><dd class=\"\" data-comment=\"{gno:'news016,0002106642',params:{sid1:'105'},nclicks:'cmt.count',type:'sectionHomeList'}\"><span class=\"lede\">“갤럭시 S23로 찍은 사진은 어떤 걸까요?” 삼성전자가 새롭게 출시한 ‘갤럭시  …</span><span class=\"writing\">헤럴드경제</span><span class=\"date is_outdated\">5시간전</span><a class=\"count_cmt\" href=\"/main/read.naver?oid=016&amp;aid=0002106642&amp;mid=shm&amp;sid1=105&amp;m_view=1&amp;m_url=%2Fcomment%2Fall.nhn%3FserviceId%3Dnews%26gno%3Dnews016%2C0002106642%26sort%3Dlikability\">300<span class=\"count_cmt_symbol\"><span class=\"blind\">이상</span>+</span></a></dd></dl></li></ul>\n",
       "<ul class=\"type06\">\n",
       "<li><dl><dt class=\"photo\"><a class=\"nclicks(itn.airscont,'880000BC_000000000000000005091205', 'airsGParam', '0', 'news_sec_v2.0', 'E5P4RBy1WFPV178d')\" href=\"https://n.news.naver.com/mnews/article/009/0005091205?sid=105\"><img alt=\"\" height=\"72\" onerror=\"javascript:this.src='https://ssl.pstatic.net/static.news/image/news/2009/noimage_106x72.png';\" src=\"https://mimgnews.pstatic.net/image/origin/009/2023/02/20/5091205.jpg?type=nf106_72\" width=\"106\"/></a></dt><dt><a class=\"nclicks(itn.airscont,'880000BC_000000000000000005091205', 'airsGParam', '0', 'news_sec_v2.0', 'E5P4RBy1WFPV178d')\" href=\"https://n.news.naver.com/mnews/article/009/0005091205?sid=105\">KT 대표이사 공모경쟁 후끈 내·외부 34명 무더기 출사표</a></dt><dd class=\"\" data-comment=\"{gno:'news009,0005091205',params:{sid1:'105'},nclicks:'cmt.count',type:'sectionHomeList'}\"><span class=\"lede\">전직 장관·KT 출신 지원 내달 7일 최종 확정 발표 KT 차기 대표이사 후보자에 …</span><span class=\"writing\">매일경제</span><span class=\"date is_outdated\">5시간전</span></dd></dl></li><li><dl><dt class=\"photo\"><a class=\"nclicks(itn.airscont,'88127058_000000000000000000879089', 'airsGParam', '0', 'news_sec_v2.0', 'E5P4RBy1WFPV178d')\" href=\"https://n.news.naver.com/mnews/article/366/0000879089?sid=105\"><img alt=\"\" height=\"72\" onerror=\"javascript:this.src='https://ssl.pstatic.net/static.news/image/news/2009/noimage_106x72.png';\" src=\"https://mimgnews.pstatic.net/image/origin/366/2023/02/20/879089.jpg?type=nf106_72\" width=\"106\"/></a></dt><dt><a class=\"nclicks(itn.airscont,'88127058_000000000000000000879089', 'airsGParam', '0', 'news_sec_v2.0', 'E5P4RBy1WFPV178d')\" href=\"https://n.news.naver.com/mnews/article/366/0000879089?sid=105\">창립 100돌 맞은 노보 노디스크 “다음 승부처는 알츠하이머”</a></dt><dd class=\"\" data-comment=\"{gno:'news366,0000879089',params:{sid1:'105'},nclicks:'cmt.count',type:'sectionHomeList'}\"><span class=\"lede\">인슐린 세계 1위 ‘노보 노디스크’ 100주년 간담회 당뇨병·비만 등 만성질환 시 …</span><span class=\"writing\">조선비즈</span><span class=\"date is_outdated\">5시간전</span></dd></dl></li><li><dl><dt class=\"photo\"><a class=\"nclicks(itn.airscont,'88213rx9_000000000000000000014019', 'airsGParam', '0', 'news_sec_v2.0', 'E5P4RBy1WFPV178d')\" href=\"https://n.news.naver.com/mnews/article/648/0000014019?sid=105\"><img alt=\"\" height=\"72\" onerror=\"javascript:this.src='https://ssl.pstatic.net/static.news/image/news/2009/noimage_106x72.png';\" src=\"https://mimgnews.pstatic.net/image/origin/648/2023/02/20/14019.jpg?type=nf106_72\" width=\"106\"/></a></dt><dt><a class=\"nclicks(itn.airscont,'88213rx9_000000000000000000014019', 'airsGParam', '0', 'news_sec_v2.0', 'E5P4RBy1WFPV178d')\" href=\"https://n.news.naver.com/mnews/article/648/0000014019?sid=105\">LG유플러스, 20대 전용 브랜드 처음 꺼낸 이유</a></dt><dd class=\"\" data-comment=\"{gno:'news648,0000014019',params:{sid1:'105'},nclicks:'cmt.count',type:'sectionHomeList'}\"><span class=\"lede\">LG유플러스가 20대 전용 브랜드와 요금제를 처음 내놓아 업계의 눈길을 끈다. S …</span><span class=\"writing\">비즈워치</span><span class=\"date is_outdated\">5시간전</span></dd></dl></li><li><dl><dt class=\"photo\"><a class=\"nclicks(itn.airscont,'8800010E_000000000000000002106635', 'airsGParam', '0', 'news_sec_v2.0', 'E5P4RBy1WFPV178d')\" href=\"https://n.news.naver.com/mnews/article/016/0002106635?sid=105\"><img alt=\"\" height=\"72\" onerror=\"javascript:this.src='https://ssl.pstatic.net/static.news/image/news/2009/noimage_106x72.png';\" src=\"https://mimgnews.pstatic.net/image/origin/016/2023/02/20/2106635.jpg?type=nf106_72\" width=\"106\"/></a></dt><dt><a class=\"nclicks(itn.airscont,'8800010E_000000000000000002106635', 'airsGParam', '0', 'news_sec_v2.0', 'E5P4RBy1WFPV178d')\" href=\"https://n.news.naver.com/mnews/article/016/0002106635?sid=105\">KT 대표직 놓고 34명 겨룬다…권은희·김종훈 등 정계인사 대거 출사표</a></dt><dd class=\"\" data-comment=\"{gno:'news016,0002106635',params:{sid1:'105'},nclicks:'cmt.count',type:'sectionHomeList'}\"><span class=\"lede\">KT 차기 대표이사를 뽑기 위한 공개 모집에 권은희 전 새누리당 의원, 김종훈 전 …</span><span class=\"writing\">헤럴드경제</span><span class=\"date is_outdated\">5시간전</span></dd></dl></li><li><dl><dt class=\"photo\"><a class=\"nclicks(itn.airscont,'88156f75_000000000000000000724493', 'airsGParam', '0', 'news_sec_v2.0', 'E5P4RBy1WFPV178d')\" href=\"https://n.news.naver.com/mnews/article/469/0000724493?sid=105\"><img alt=\"\" height=\"72\" onerror=\"javascript:this.src='https://ssl.pstatic.net/static.news/image/news/2009/noimage_106x72.png';\" src=\"https://mimgnews.pstatic.net/image/origin/469/2023/02/20/724493.jpg?type=nf106_72\" width=\"106\"/></a></dt><dt><a class=\"nclicks(itn.airscont,'88156f75_000000000000000000724493', 'airsGParam', '0', 'news_sec_v2.0', 'E5P4RBy1WFPV178d')\" href=\"https://n.news.naver.com/mnews/article/469/0000724493?sid=105\">국민연금 반대로 새로 뽑는 KT 대표...여권 정치인 출신들까지 대거 도전한다</a></dt><dd class=\"\" data-comment=\"{gno:'news469,0000724493',params:{sid1:'105'},nclicks:'cmt.count',type:'sectionHomeList'}\"><span class=\"lede\">KT의 다음 대표이사(CEO) 후보에 34명이 도전장을 던졌다. 회사 밖에서만 2 …</span><span class=\"writing\">한국일보</span><span class=\"date is_outdated\">5시간전</span></dd></dl></li></ul>\n",
       "</div>"
      ]
     },
     "execution_count": 18,
     "metadata": {},
     "output_type": "execute_result"
    }
   ],
   "source": [
    "text = driver.page_source\n",
    "bs = BS(text)\n",
    "bs.find(id = 'section_body')"
   ]
  },
  {
   "cell_type": "code",
   "execution_count": 5,
   "metadata": {},
   "outputs": [
    {
     "name": "stdout",
     "output_type": "stream",
     "text": [
      "https://n.news.naver.com/mnews/article/009/0005091310?sid=105\n",
      "https://n.news.naver.com/mnews/article/469/0000724534?sid=105\n",
      "https://n.news.naver.com/mnews/article/016/0002106693?sid=105\n",
      "https://n.news.naver.com/mnews/article/030/0003079647?sid=105\n",
      "https://n.news.naver.com/mnews/article/665/0000000487?sid=105\n",
      "https://n.news.naver.com/mnews/article/014/0004971917?sid=105\n",
      "https://n.news.naver.com/mnews/article/016/0002106655?sid=105\n",
      "https://n.news.naver.com/mnews/article/031/0000729793?sid=105\n",
      "https://n.news.naver.com/mnews/article/014/0004971853?sid=105\n",
      "https://n.news.naver.com/mnews/article/629/0000201865?sid=105\n",
      "https://n.news.naver.com/mnews/article/020/0003480842?sid=105\n",
      "https://n.news.naver.com/mnews/article/366/0000879099?sid=105\n",
      "https://n.news.naver.com/mnews/article/011/0004158620?sid=105\n",
      "https://n.news.naver.com/mnews/article/293/0000042523?sid=105\n",
      "https://n.news.naver.com/mnews/article/016/0002106642?sid=105\n",
      "https://n.news.naver.com/mnews/article/009/0005091205?sid=105\n",
      "https://n.news.naver.com/mnews/article/366/0000879089?sid=105\n",
      "https://n.news.naver.com/mnews/article/648/0000014019?sid=105\n",
      "https://n.news.naver.com/mnews/article/016/0002106635?sid=105\n",
      "https://n.news.naver.com/mnews/article/469/0000724493?sid=105\n"
     ]
    }
   ],
   "source": [
    "for i in range(20) :\n",
    "    print(bs.find(id = 'section_body').findAll('li')[i].find('a')['href'])"
   ]
  }
 ],
 "metadata": {
  "kernelspec": {
   "display_name": "Python 3",
   "language": "python",
   "name": "python3"
  },
  "language_info": {
   "codemirror_mode": {
    "name": "ipython",
    "version": 3
   },
   "file_extension": ".py",
   "mimetype": "text/x-python",
   "name": "python",
   "nbconvert_exporter": "python",
   "pygments_lexer": "ipython3",
   "version": "3.11.2"
  },
  "orig_nbformat": 4,
  "vscode": {
   "interpreter": {
    "hash": "c15598462d603a075a10cb78d6f96524a9963393ee2ee1195ae5721714cd3a39"
   }
  }
 },
 "nbformat": 4,
 "nbformat_minor": 2
}
