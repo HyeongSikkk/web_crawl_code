{
 "cells": [
  {
   "cell_type": "code",
   "execution_count": 1,
   "metadata": {},
   "outputs": [],
   "source": [
    "import requests\n",
    "import json\n",
    "import tqdm\n",
    "import datetime\n",
    "from bs4 import BeautifulSoup as BS"
   ]
  },
  {
   "cell_type": "code",
   "execution_count": 2,
   "metadata": {},
   "outputs": [],
   "source": [
    "def get_text_datetime(url) :\n",
    "    r = requests.get(url)\n",
    "    try :\n",
    "        bs = BS(r.text)\n",
    "        text = bs.find(id = 'newsct_article').text\n",
    "        datetime = bs.find('span', {'class' : 'media_end_head_info_datestamp_time _ARTICLE_DATE_TIME'})['data-date-time']\n",
    "        return {'text' : clean(text), 'datetime' : datetime}\n",
    "    except :\n",
    "        return {'error' : 'error'}\n",
    "        \n",
    "def clean(text) :\n",
    "    return text.replace('\\n', '').strip()\n",
    "\n",
    "def get_sids() :\n",
    "    row = {\n",
    "        '정치' : 100,\n",
    "        '경제' : 101,\n",
    "        '사회' : 102,\n",
    "        '생활/문화' : 103,\n",
    "        '세계' : 104,\n",
    "        'IT/과학' : 105,\n",
    "    }\n",
    "    return row"
   ]
  },
  {
   "cell_type": "code",
   "execution_count": null,
   "metadata": {},
   "outputs": [
    {
     "name": "stderr",
     "output_type": "stream",
     "text": [
      " 83%|███████████████████████████████████████████████████████████████████▌             | 5/6 [1:23:41<14:14, 854.27s/it]"
     ]
    }
   ],
   "source": [
    "main_url = 'https://news.naver.com/main/mainNews.naver'\n",
    "target_day = -1 # 어제\n",
    "target_datetime = datetime.datetime.today().date() + datetime.timedelta(days = target_day)\n",
    "sids = get_sids()\n",
    "payload = {\n",
    "    'sid1' : None,\n",
    "    'date' : '00:00:00',\n",
    "    'page' : 1,   \n",
    "}\n",
    "results = [] # 기사들을 담을 리스트\n",
    "test = 1\n",
    "for sid in tqdm.tqdm(sids.keys()) :\n",
    "    payload['sid1'] = sids[sid]\n",
    "    page = 0\n",
    "    stop = False\n",
    "    while not stop :\n",
    "        page += 1\n",
    "        payload['page'] = page\n",
    "        r = requests.post(main_url, data = payload)\n",
    "        data = r.json()\n",
    "        for news in json.loads(data['airsResult'])['result'][f\"{sids[sid]}\"] :\n",
    "            title = news['title']\n",
    "            url = f\"https://n.news.naver.com/mnews/article/{news['officeId']}/{news['articleId']}\"\n",
    "            text_datetime = get_text_datetime(url)\n",
    "            row = {\n",
    "                'type' : sid,\n",
    "                'title' : title,\n",
    "                'url' : url,\n",
    "                **text_datetime\n",
    "            }\n",
    "            try : # 정상적인 경우\n",
    "                if datetime.datetime.strptime(row['datetime'], '%Y-%m-%d %H:%M:%S').date() > target_datetime : # 대상 날짜에 이르기 전\n",
    "                    continue\n",
    "                elif datetime.datetime.strptime(row['datetime'], '%Y-%m-%d %H:%M:%S').date() == target_datetime : # 대상 날짜\n",
    "                    results.append(row)\n",
    "                else : # 대상 날짜를 지난 경우 \n",
    "                    stop = True\n",
    "                    break\n",
    "                     \n",
    "            except : # error 발생한 경우\n",
    "                results.append(row) # error에 경우 추후 처리"
   ]
  },
  {
   "cell_type": "code",
   "execution_count": null,
   "metadata": {},
   "outputs": [],
   "source": [
    "file_name = f\"{target_datetime.year}{str(target_datetime.month).zfill(2)}{str(target_datetime.day).zfill(2)}_news.json\"\n",
    "text = json.dumps(results, ensure_ascii=False)\n",
    "try :\n",
    "    with open(f\"C:/news/{file_name}\", 'w', encoding = 'utf-8') as file :\n",
    "        file.write(text)\n",
    "except :\n",
    "    import os\n",
    "    os.mkdir('C:/news')\n",
    "    with open(f\"C:/news/{file_name}\", 'w', encoding = 'utf-8') as file :\n",
    "        file.write(text)"
   ]
  }
 ],
 "metadata": {
  "kernelspec": {
   "display_name": "Python 3 (ipykernel)",
   "language": "python",
   "name": "python3"
  },
  "language_info": {
   "codemirror_mode": {
    "name": "ipython",
    "version": 3
   },
   "file_extension": ".py",
   "mimetype": "text/x-python",
   "name": "python",
   "nbconvert_exporter": "python",
   "pygments_lexer": "ipython3",
   "version": "3.11.6"
  },
  "vscode": {
   "interpreter": {
    "hash": "c15598462d603a075a10cb78d6f96524a9963393ee2ee1195ae5721714cd3a39"
   }
  }
 },
 "nbformat": 4,
 "nbformat_minor": 4
}
