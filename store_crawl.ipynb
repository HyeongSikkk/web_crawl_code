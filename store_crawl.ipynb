{
 "cells": [
  {
   "cell_type": "code",
   "execution_count": 4,
   "metadata": {},
   "outputs": [],
   "source": [
    "import requests\n",
    "from selenium import webdriver\n",
    "from selenium.webdriver.common.by import By\n",
    "from bs4 import BeautifulSoup as BS\n",
    "import tqdm\n",
    "import time\n",
    "import datetime\n",
    "import pandas as pd\n",
    "import json"
   ]
  },
  {
   "attachments": {},
   "cell_type": "markdown",
   "metadata": {},
   "source": [
    "# seven eleven\n"
   ]
  },
  {
   "cell_type": "code",
   "execution_count": null,
   "metadata": {},
   "outputs": [
    {
     "name": "stderr",
     "output_type": "stream",
     "text": [
      " 18%|██████████████▋                                                                    | 3/17 [00:59<04:42, 20.20s/it]"
     ]
    }
   ],
   "source": [
    "start_url = \"https://www.7-eleven.co.kr/util/storeLayerPop.asp\"\n",
    "\n",
    "# 각 시의 행정구역 데이터 호출을 위한 url, payload\n",
    "get_gugun_url = \"https://www.7-eleven.co.kr/library/asp/StoreGetGugun.asp\"\n",
    "get_gugun_payload = {\n",
    "    'Sido' : None,\n",
    "    'selName' : 'storeLayGu',    \n",
    "}\n",
    "\n",
    "# 각 시,군 별 세븐일레븐 편의점 데이터 호출을 위한 url, payload\n",
    "get_store_url = \"https://www.7-eleven.co.kr/util/storeLayerPop.asp\"\n",
    "\"https://www.7-eleven.co.kr/util/storeLayerPop.asp\"\n",
    "get_store_payload = {\n",
    "    'storeLaySido':None,\n",
    "    'storeLayGu':None,\n",
    "    'hiddentext':'none',\n",
    "}\n",
    "\n",
    "# 각 시를 불러오기 위한 요청\n",
    "r = requests.get(start_url)\n",
    "bs = BS(r.text)\n",
    "\n",
    "# 데이터를 저장할 리스트\n",
    "seven_store_data = []\n",
    "for sido in tqdm.tqdm(bs.find(id = 'storeLaySido').findAll('option')[1:]) :\n",
    "    \n",
    "    # 각 페이로드에 sido값 지정\n",
    "    get_gugun_payload['Sido'] = sido.text\n",
    "    get_store_payload['storeLaySido'] = sido.text\n",
    "    # 구,군 정보 호출\n",
    "    gugun_r = requests.post(get_gugun_url, data = get_gugun_payload)\n",
    "    for gugun in BS(gugun_r.text).findAll('option')[1:] :\n",
    "        get_store_payload['storeLayGu'] = gugun.text\n",
    "        get_store_r = requests.post(get_store_url, data = get_store_payload)\n",
    "        \n",
    "        for store in BS(get_store_r.text).find('div', {'class' : 'list_stroe'}).findAll('li') :\n",
    "            try : \n",
    "                store_name = store.findAll('span')[0].text.strip()\n",
    "                tmp = store.findAll('span')[1].text.split()\n",
    "                # 'javascript: document.mapifrmAction.markerClick(1,37.564153483,127.00835317);' <- 문자열에서 위도 경도를 분해함\n",
    "                lat, long = map(lambda x : float(x), store.find('a')['href'].split('(')[1].split(')')[0].split(',')[1:]) \n",
    "                store_addr = ''\n",
    "                for text in tmp :\n",
    "                    store_addr += text + ' '\n",
    "                row = {\n",
    "                    'brand' : 'seven',\n",
    "                    'store_name' : store_name,\n",
    "                    'store_addr' : store_addr,\n",
    "                    'lat' : lat,\n",
    "                    'long' : long,\n",
    "                }\n",
    "                \n",
    "                seven_store_data.append(row)\n",
    "            except :\n",
    "                print(get_store_payload['storeLayGu'])"
   ]
  },
  {
   "cell_type": "markdown",
   "metadata": {},
   "source": [
    "# Emart"
   ]
  },
  {
   "cell_type": "code",
   "execution_count": 105,
   "metadata": {},
   "outputs": [],
   "source": [
    "sido_list = [\n",
    "    '강원특별자치도',\n",
    "    '경기도',\n",
    "    '경상남도',\n",
    "    '경상북도',\n",
    "    '광주광역시',\n",
    "    '대구광역시',\n",
    "    '대전광역시',\n",
    "    '부산광역시',\n",
    "    '서울특별시',\n",
    "    '세종특별자치시',\n",
    "    '울산광역시',\n",
    "    '인천광역시',\n",
    "    '전라남도',\n",
    "    '전라북도',\n",
    "    '제주특별자치도',\n",
    "    '충청남도',\n",
    "    '충청북도',\n",
    "]\n",
    "\n",
    "# 이마트 데이터 처리를 위한 함수\n",
    "def select(x) :\n",
    "    # Title\n",
    "    try :\n",
    "        title = x['TITLE']\n",
    "    except :\n",
    "        title = None\n",
    "\n",
    "    # Address\n",
    "    try :\n",
    "        addr = x['ADDRESS']\n",
    "    except :\n",
    "        addr = None\n",
    "\n",
    "    try :\n",
    "        lat = x['LATITUDE']\n",
    "    except :\n",
    "        lat = None\n",
    "\n",
    "    try :\n",
    "        long = x['LONGITUDE']\n",
    "    except :\n",
    "        long = None\n",
    "        \n",
    "    row = {\n",
    "        'brend' : 'emart',\n",
    "        'store_name' : title,\n",
    "        'store_addr' : addr,\n",
    "        'lat' : lat,\n",
    "        'long' : long,\n",
    "    }\n",
    "    return row\n",
    "\n",
    "emart_store_data = []\n",
    "for sido in sido_list :\n",
    "    page = 0\n",
    "    while True :\n",
    "        page += 1\n",
    "        url = f\"https://www.emart24.co.kr/api1/store?page={page}&search=&AREA1={sido}&AREA2=&SVR_24=&SVR_AUTO=&SVR_PARCEL=&SVR_ATM=&SVR_WINE=&SVR_COFFEE=&SVR_SMOOTH=&SVR_APPLE=&SVR_TOTO=\"\n",
    "        r = requests.get(url)#, params = payload)\n",
    "        try :\n",
    "            result = list(map(lambda x : select(x), r.json()['data']))\n",
    "            emart_store_data += result\n",
    "            if r.json()['count'] / 40 < page :\n",
    "                break\n",
    "        except :\n",
    "            pass"
   ]
  }
 ],
 "metadata": {
  "kernelspec": {
   "display_name": "Python 3 (ipykernel)",
   "language": "python",
   "name": "python3"
  },
  "language_info": {
   "codemirror_mode": {
    "name": "ipython",
    "version": 3
   },
   "file_extension": ".py",
   "mimetype": "text/x-python",
   "name": "python",
   "nbconvert_exporter": "python",
   "pygments_lexer": "ipython3",
   "version": "3.11.6"
  },
  "vscode": {
   "interpreter": {
    "hash": "c15598462d603a075a10cb78d6f96524a9963393ee2ee1195ae5721714cd3a39"
   }
  }
 },
 "nbformat": 4,
 "nbformat_minor": 4
}
