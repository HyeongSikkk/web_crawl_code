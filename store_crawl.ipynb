{
 "cells": [
  {
   "cell_type": "code",
   "execution_count": 2,
   "metadata": {},
   "outputs": [],
   "source": [
    "import requests\n",
    "from selenium import webdriver\n",
    "from selenium.webdriver.common.by import By\n",
    "from bs4 import BeautifulSoup as BS\n",
    "import tqdm\n",
    "import time\n",
    "import datetime\n",
    "import pandas as pd\n",
    "import json"
   ]
  },
  {
   "attachments": {},
   "cell_type": "markdown",
   "metadata": {},
   "source": [
    "# seven eleven\n"
   ]
  },
  {
   "cell_type": "code",
   "execution_count": 3,
   "metadata": {},
   "outputs": [
    {
     "name": "stderr",
     "output_type": "stream",
     "text": [
      "  0%|                                                                                           | 0/17 [00:00<?, ?it/s]"
     ]
    },
    {
     "name": "stdout",
     "output_type": "stream",
     "text": [
      "{'Sido': '강원도', 'selName': 'storeLayGu'}\n"
     ]
    },
    {
     "name": "stderr",
     "output_type": "stream",
     "text": [
      "  6%|████▉                                                                              | 1/17 [00:12<03:18, 12.40s/it]"
     ]
    },
    {
     "name": "stdout",
     "output_type": "stream",
     "text": [
      "{'Sido': '경기도', 'selName': 'storeLayGu'}\n"
     ]
    },
    {
     "name": "stderr",
     "output_type": "stream",
     "text": [
      " 12%|█████████▊                                                                         | 2/17 [00:44<05:59, 23.99s/it]"
     ]
    },
    {
     "name": "stdout",
     "output_type": "stream",
     "text": [
      "{'Sido': '경상남도', 'selName': 'storeLayGu'}\n"
     ]
    },
    {
     "name": "stderr",
     "output_type": "stream",
     "text": [
      " 18%|██████████████▋                                                                    | 3/17 [00:59<04:38, 19.93s/it]"
     ]
    },
    {
     "name": "stdout",
     "output_type": "stream",
     "text": [
      "{'Sido': '경상북도', 'selName': 'storeLayGu'}\n",
      "군위군\n",
      "울릉군\n"
     ]
    },
    {
     "name": "stderr",
     "output_type": "stream",
     "text": [
      " 24%|███████████████████▌                                                               | 4/17 [01:15<03:58, 18.36s/it]"
     ]
    },
    {
     "name": "stdout",
     "output_type": "stream",
     "text": [
      "{'Sido': '광주', 'selName': 'storeLayGu'}\n"
     ]
    },
    {
     "name": "stderr",
     "output_type": "stream",
     "text": [
      " 29%|████████████████████████▍                                                          | 5/17 [01:19<02:38, 13.24s/it]"
     ]
    },
    {
     "name": "stdout",
     "output_type": "stream",
     "text": [
      "{'Sido': '대구', 'selName': 'storeLayGu'}\n"
     ]
    },
    {
     "name": "stderr",
     "output_type": "stream",
     "text": [
      " 35%|█████████████████████████████▎                                                     | 6/17 [01:26<02:00, 10.93s/it]"
     ]
    },
    {
     "name": "stdout",
     "output_type": "stream",
     "text": [
      "{'Sido': '대전', 'selName': 'storeLayGu'}\n"
     ]
    },
    {
     "name": "stderr",
     "output_type": "stream",
     "text": [
      " 41%|██████████████████████████████████▏                                                | 7/17 [01:30<01:26,  8.68s/it]"
     ]
    },
    {
     "name": "stdout",
     "output_type": "stream",
     "text": [
      "{'Sido': '부산', 'selName': 'storeLayGu'}\n"
     ]
    },
    {
     "name": "stderr",
     "output_type": "stream",
     "text": [
      " 47%|███████████████████████████████████████                                            | 8/17 [01:41<01:25,  9.55s/it]"
     ]
    },
    {
     "name": "stdout",
     "output_type": "stream",
     "text": [
      "{'Sido': '서울', 'selName': 'storeLayGu'}\n"
     ]
    },
    {
     "name": "stderr",
     "output_type": "stream",
     "text": [
      " 53%|███████████████████████████████████████████▉                                       | 9/17 [02:00<01:38, 12.37s/it]"
     ]
    },
    {
     "name": "stdout",
     "output_type": "stream",
     "text": [
      "{'Sido': '세종', 'selName': 'storeLayGu'}\n"
     ]
    },
    {
     "name": "stderr",
     "output_type": "stream",
     "text": [
      " 59%|████████████████████████████████████████████████▏                                 | 10/17 [02:00<01:00,  8.70s/it]"
     ]
    },
    {
     "name": "stdout",
     "output_type": "stream",
     "text": [
      "{'Sido': '울산', 'selName': 'storeLayGu'}\n"
     ]
    },
    {
     "name": "stderr",
     "output_type": "stream",
     "text": [
      " 65%|█████████████████████████████████████████████████████                             | 11/17 [02:04<00:43,  7.24s/it]"
     ]
    },
    {
     "name": "stdout",
     "output_type": "stream",
     "text": [
      "{'Sido': '인천', 'selName': 'storeLayGu'}\n"
     ]
    },
    {
     "name": "stderr",
     "output_type": "stream",
     "text": [
      " 71%|█████████████████████████████████████████████████████████▉                        | 12/17 [02:12<00:36,  7.33s/it]"
     ]
    },
    {
     "name": "stdout",
     "output_type": "stream",
     "text": [
      "{'Sido': '전라남도', 'selName': 'storeLayGu'}\n"
     ]
    },
    {
     "name": "stderr",
     "output_type": "stream",
     "text": [
      " 76%|██████████████████████████████████████████████████████████████▋                   | 13/17 [02:26<00:38,  9.50s/it]"
     ]
    },
    {
     "name": "stdout",
     "output_type": "stream",
     "text": [
      "{'Sido': '전라북도', 'selName': 'storeLayGu'}\n"
     ]
    },
    {
     "name": "stderr",
     "output_type": "stream",
     "text": [
      " 82%|███████████████████████████████████████████████████████████████████▌              | 14/17 [02:36<00:29,  9.72s/it]"
     ]
    },
    {
     "name": "stdout",
     "output_type": "stream",
     "text": [
      "{'Sido': '제주도', 'selName': 'storeLayGu'}\n"
     ]
    },
    {
     "name": "stderr",
     "output_type": "stream",
     "text": [
      " 88%|████████████████████████████████████████████████████████████████████████▎         | 15/17 [02:38<00:14,  7.43s/it]"
     ]
    },
    {
     "name": "stdout",
     "output_type": "stream",
     "text": [
      "{'Sido': '충청남도', 'selName': 'storeLayGu'}\n"
     ]
    },
    {
     "name": "stderr",
     "output_type": "stream",
     "text": [
      " 94%|█████████████████████████████████████████████████████████████████████████████▏    | 16/17 [02:50<00:08,  8.77s/it]"
     ]
    },
    {
     "name": "stdout",
     "output_type": "stream",
     "text": [
      "{'Sido': '충청북도', 'selName': 'storeLayGu'}\n"
     ]
    },
    {
     "name": "stderr",
     "output_type": "stream",
     "text": [
      "100%|██████████████████████████████████████████████████████████████████████████████████| 17/17 [03:00<00:00, 10.61s/it]\n"
     ]
    }
   ],
   "source": [
    "start_url = \"https://www.7-eleven.co.kr/util/storeLayerPop.asp\"\n",
    "\n",
    "# 각 시의 행정구역 데이터 호출을 위한 url, payload\n",
    "get_gugun_url = \"https://www.7-eleven.co.kr/library/asp/StoreGetGugun.asp\"\n",
    "get_gugun_payload = {\n",
    "    'Sido' : None,\n",
    "    'selName' : 'storeLayGu',    \n",
    "}\n",
    "\n",
    "# 각 시,군 별 세븐일레븐 편의점 데이터 호출을 위한 url, payload\n",
    "get_store_url = \"https://www.7-eleven.co.kr/util/storeLayerPop.asp\"\n",
    "\"https://www.7-eleven.co.kr/util/storeLayerPop.asp\"\n",
    "get_store_payload = {\n",
    "    'storeLaySido':None,\n",
    "    'storeLayGu':None,\n",
    "    'hiddentext':'none',\n",
    "}\n",
    "\n",
    "# 각 시를 불러오기 위한 요청\n",
    "r = requests.get(start_url)\n",
    "bs = BS(r.text)\n",
    "\n",
    "# 데이터를 저장할 리스트\n",
    "seven_store_data = []\n",
    "for sido in tqdm.tqdm(bs.find(id = 'storeLaySido').findAll('option')[1:]) :\n",
    "    \n",
    "    # 각 페이로드에 sido값 지정\n",
    "    get_gugun_payload['Sido'] = sido.text\n",
    "    get_store_payload['storeLaySido'] = sido.text\n",
    "    # 구,군 정보 호출\n",
    "    gugun_r = requests.post(get_gugun_url, data = get_gugun_payload)\n",
    "    for gugun in BS(gugun_r.text).findAll('option')[1:] :\n",
    "        get_store_payload['storeLayGu'] = gugun.text\n",
    "        get_store_r = requests.post(get_store_url, data = get_store_payload)\n",
    "        \n",
    "        for store in BS(get_store_r.text).find('div', {'class' : 'list_stroe'}).findAll('li') :\n",
    "            try : \n",
    "                store_name = store.findAll('span')[0].text.strip()\n",
    "                tmp = store.findAll('span')[1].text.split()\n",
    "                # 'javascript: document.mapifrmAction.markerClick(1,37.564153483,127.00835317);' <- 문자열에서 위도 경도를 분해함\n",
    "                lat, long = map(lambda x : float(x), store.find('a')['href'].split('(')[1].split(')')[0].split(',')[1:]) \n",
    "                store_addr = ''\n",
    "                for text in tmp :\n",
    "                    store_addr += text + ' '\n",
    "                row = {\n",
    "                    'brand' : 'seven',\n",
    "                    'store_name' : store_name,\n",
    "                    'store_addr' : store_addr,\n",
    "                    'lat' : lat,\n",
    "                    'long' : long,\n",
    "                }\n",
    "                \n",
    "                seven_store_data.append(row)\n",
    "            except :\n",
    "                print(get_store_payload['storeLayGu'])"
   ]
  }
 ],
 "metadata": {
  "kernelspec": {
   "display_name": "Python 3 (ipykernel)",
   "language": "python",
   "name": "python3"
  },
  "language_info": {
   "codemirror_mode": {
    "name": "ipython",
    "version": 3
   },
   "file_extension": ".py",
   "mimetype": "text/x-python",
   "name": "python",
   "nbconvert_exporter": "python",
   "pygments_lexer": "ipython3",
   "version": "3.11.6"
  },
  "vscode": {
   "interpreter": {
    "hash": "c15598462d603a075a10cb78d6f96524a9963393ee2ee1195ae5721714cd3a39"
   }
  }
 },
 "nbformat": 4,
 "nbformat_minor": 4
}
