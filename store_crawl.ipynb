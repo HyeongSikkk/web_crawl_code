{
 "cells": [
  {
   "cell_type": "code",
   "execution_count": 1,
   "metadata": {},
   "outputs": [],
   "source": [
    "import os\n",
    "import requests\n",
    "from selenium import webdriver\n",
    "from selenium.webdriver.common.by import By\n",
    "from bs4 import BeautifulSoup as BS\n",
    "import tqdm\n",
    "import time\n",
    "import datetime\n",
    "import pandas as pd\n",
    "import pickle"
   ]
  },
  {
   "attachments": {},
   "cell_type": "markdown",
   "metadata": {},
   "source": [
    "# seven eleven\n"
   ]
  },
  {
   "cell_type": "code",
   "execution_count": 2,
   "metadata": {},
   "outputs": [
    {
     "name": "stderr",
     "output_type": "stream",
     "text": [
      " 47%|████▋     | 8/17 [01:27<01:38, 10.94s/it]\n"
     ]
    },
    {
     "ename": "AttributeError",
     "evalue": "'NoneType' object has no attribute 'findAll'",
     "output_type": "error",
     "traceback": [
      "\u001b[1;31m---------------------------------------------------------------------------\u001b[0m",
      "\u001b[1;31mAttributeError\u001b[0m                            Traceback (most recent call last)",
      "Cell \u001b[1;32mIn[2], line 17\u001b[0m\n\u001b[0;32m     15\u001b[0m seven_html \u001b[39m=\u001b[39m seven_driver\u001b[39m.\u001b[39mpage_source\n\u001b[0;32m     16\u001b[0m bs \u001b[39m=\u001b[39m BS(seven_html)\n\u001b[1;32m---> 17\u001b[0m \u001b[39mfor\u001b[39;00m store_list \u001b[39min\u001b[39;00m \u001b[39mrange\u001b[39m(\u001b[39mlen\u001b[39m(bs\u001b[39m.\u001b[39;49mfind(\u001b[39m'\u001b[39;49m\u001b[39mdiv\u001b[39;49m\u001b[39m'\u001b[39;49m, {\u001b[39m'\u001b[39;49m\u001b[39mclass\u001b[39;49m\u001b[39m'\u001b[39;49m : \u001b[39m'\u001b[39;49m\u001b[39mlist_stroe\u001b[39;49m\u001b[39m'\u001b[39;49m})\u001b[39m.\u001b[39;49mfindAll(\u001b[39m'\u001b[39m\u001b[39mli\u001b[39m\u001b[39m'\u001b[39m))) :\n\u001b[0;32m     18\u001b[0m     \u001b[39mtry\u001b[39;00m :\n\u001b[0;32m     19\u001b[0m         store_name \u001b[39m=\u001b[39m bs\u001b[39m.\u001b[39mfind(\u001b[39m'\u001b[39m\u001b[39mdiv\u001b[39m\u001b[39m'\u001b[39m, {\u001b[39m'\u001b[39m\u001b[39mclass\u001b[39m\u001b[39m'\u001b[39m : \u001b[39m'\u001b[39m\u001b[39mlist_stroe\u001b[39m\u001b[39m'\u001b[39m})\u001b[39m.\u001b[39mfindAll(\u001b[39m'\u001b[39m\u001b[39mli\u001b[39m\u001b[39m'\u001b[39m)[store_list]\u001b[39m.\u001b[39mfindAll(\u001b[39m'\u001b[39m\u001b[39mspan\u001b[39m\u001b[39m'\u001b[39m)[\u001b[39m0\u001b[39m]\u001b[39m.\u001b[39mtext\u001b[39m.\u001b[39msplit()\n",
      "\u001b[1;31mAttributeError\u001b[0m: 'NoneType' object has no attribute 'findAll'"
     ]
    }
   ],
   "source": [
    "# 웹드라이버 방식은 종종 연결이 끊김..\n",
    "seven_driver = webdriver.Chrome()\n",
    "seven_driver.implicitly_wait(3)\n",
    "seven_url = 'https://www.7-eleven.co.kr/'\n",
    "seven_driver.get('https://www.7-eleven.co.kr/')\n",
    "seven_driver.find_element(By.CSS_SELECTOR, '#header > div > div > div.head_util > a.util_store.store_open').click()\n",
    "seven_driver.find_element(By.CSS_SELECTOR, '#storeLaySido').click()\n",
    "seven_store_data = []\n",
    "for sido in tqdm.tqdm(range(2, 19)) :\n",
    "    sido_button = f'#storeLaySido > option:nth-child({sido})'\n",
    "    seven_driver.find_element(By.CSS_SELECTOR, sido_button).click()\n",
    "    time.sleep(1)\n",
    "    seven_driver.find_element(By.CSS_SELECTOR, '#storeButton1').click()\n",
    "    time.sleep(3)\n",
    "    seven_html = seven_driver.page_source\n",
    "    bs = BS(seven_html)\n",
    "    for store_list in range(len(bs.find('div', {'class' : 'list_stroe'}).findAll('li'))) :\n",
    "        try :\n",
    "            store_name = bs.find('div', {'class' : 'list_stroe'}).findAll('li')[store_list].findAll('span')[0].text.split()\n",
    "            tmp = bs.find('div', {'class' : 'list_stroe'}).findAll('li')[store_list].findAll('span')[1].text.split()\n",
    "            store_addr = ''\n",
    "            for text in tmp :\n",
    "                store_addr += text + ' '\n",
    "            seven_store_data.append({'brand' : 'seven','store_name' : store_name, 'store_addr' : store_addr})\n",
    "        except :\n",
    "            print(sido, bs.find('div', {'class' : 'list_stroe'}).findAll('li')[store_list])\n",
    "        "
   ]
  },
  {
   "cell_type": "code",
   "execution_count": 3,
   "metadata": {},
   "outputs": [
    {
     "name": "stderr",
     "output_type": "stream",
     "text": [
      "100%|██████████| 16/16 [01:17<00:00,  4.85s/it]\n",
      "100%|██████████| 25/25 [00:11<00:00,  2.26it/s]\n"
     ]
    }
   ],
   "source": [
    "seven_payload = {'storeLaySido':'강원도','storeLayGu':'','hiddentext':'none'}\n",
    "sido_list = ['강원도', '경기도','경상남도','경상북도','광주','대구','대전','부산','세종','울산','인천','전라남도',\n",
    "             '전라북도','제주도','충청남도','충청북도']\n",
    "seoul_gu_list = ['강남구','강동구','강북구','강서구','관악구','광진구','구로구','금천구','노원구','도봉구',\n",
    "                 '동대문구','동작구','마포구','서대문구','서초구','성동구','성북구','송파구','양천구','영등포구',\n",
    "                 '용산구','은평구','종로구','중구','중랑구']\n",
    "api = 'https://www.7-eleven.co.kr/util/storeLayerPop.asp'\n",
    "seven_store_data = []\n",
    "for sido in tqdm.tqdm(sido_list) :\n",
    "    seven_payload['storeLaySido'] = sido\n",
    "    seven_r = requests.post(api, data = seven_payload)\n",
    "    bs = BS(seven_r.text)\n",
    "    for store_list in range(len(bs.find('div', {'class' : 'list_stroe'}).findAll('li'))) :\n",
    "        try : \n",
    "            store_name = bs.find('div', {'class' : 'list_stroe'}).findAll('li')[store_list].findAll('span')[0].text.split()\n",
    "            tmp = bs.find('div', {'class' : 'list_stroe'}).findAll('li')[store_list].findAll('span')[1].text.split()\n",
    "            store_addr = ''\n",
    "            for text in tmp :\n",
    "                store_addr += text + ' '\n",
    "            seven_store_data.append({'brand' : 'seven','store_name' : store_name, 'store_addr' : store_addr})\n",
    "        except :\n",
    "            print(sido)\n",
    "seven_payload['storeLaySido'] = '서울'            \n",
    "for gu in tqdm.tqdm(seoul_gu_list) :\n",
    "    seven_payload['storeLayGu'] = gu\n",
    "    seven_r = requests.post(api, data = seven_payload)\n",
    "    bs = BS(seven_r.text)\n",
    "    for store_list in range(len(bs.find('div', {'class' : 'list_stroe'}).findAll('li'))) :\n",
    "        try : \n",
    "            store_name = bs.find('div', {'class' : 'list_stroe'}).findAll('li')[store_list].findAll('span')[0].text.split()\n",
    "            tmp = bs.find('div', {'class' : 'list_stroe'}).findAll('li')[store_list].findAll('span')[1].text.split()\n",
    "            store_addr = ''\n",
    "            for text in tmp :\n",
    "                store_addr += text + ' '\n",
    "            seven_store_data.append({'brand' : 'seven','store_name' : store_name, 'store_addr' : store_addr})\n",
    "        except :\n",
    "            print(gu)"
   ]
  },
  {
   "cell_type": "code",
   "execution_count": 5,
   "metadata": {},
   "outputs": [],
   "source": [
    "df = pd.DataFrame(seven_store_data)"
   ]
  },
  {
   "cell_type": "code",
   "execution_count": 6,
   "metadata": {},
   "outputs": [
    {
     "data": {
      "text/html": [
       "<div>\n",
       "<style scoped>\n",
       "    .dataframe tbody tr th:only-of-type {\n",
       "        vertical-align: middle;\n",
       "    }\n",
       "\n",
       "    .dataframe tbody tr th {\n",
       "        vertical-align: top;\n",
       "    }\n",
       "\n",
       "    .dataframe thead th {\n",
       "        text-align: right;\n",
       "    }\n",
       "</style>\n",
       "<table border=\"1\" class=\"dataframe\">\n",
       "  <thead>\n",
       "    <tr style=\"text-align: right;\">\n",
       "      <th></th>\n",
       "      <th>brand</th>\n",
       "      <th>store_name</th>\n",
       "      <th>store_addr</th>\n",
       "    </tr>\n",
       "  </thead>\n",
       "  <tbody>\n",
       "    <tr>\n",
       "      <th>0</th>\n",
       "      <td>seven</td>\n",
       "      <td>[간성읍점]</td>\n",
       "      <td>강원도 고성군 간성로 39-2</td>\n",
       "    </tr>\n",
       "    <tr>\n",
       "      <th>1</th>\n",
       "      <td>seven</td>\n",
       "      <td>[강릉5주공점]</td>\n",
       "      <td>강원도 강릉시 월대산로 43</td>\n",
       "    </tr>\n",
       "    <tr>\n",
       "      <th>2</th>\n",
       "      <td>seven</td>\n",
       "      <td>[강릉가작로점]</td>\n",
       "      <td>강원도 강릉시 가작로274번길 19 1층</td>\n",
       "    </tr>\n",
       "    <tr>\n",
       "      <th>3</th>\n",
       "      <td>seven</td>\n",
       "      <td>[강릉강문스타점]</td>\n",
       "      <td>강원도 강릉시 창해로350번길 21 (강문동)</td>\n",
       "    </tr>\n",
       "    <tr>\n",
       "      <th>4</th>\n",
       "      <td>seven</td>\n",
       "      <td>[강릉강문점]</td>\n",
       "      <td>강원도 강릉시 해안로 298-7 B블록 101호, 102호(강문동)</td>\n",
       "    </tr>\n",
       "    <tr>\n",
       "      <th>...</th>\n",
       "      <td>...</td>\n",
       "      <td>...</td>\n",
       "      <td>...</td>\n",
       "    </tr>\n",
       "    <tr>\n",
       "      <th>9127</th>\n",
       "      <td>seven</td>\n",
       "      <td>[중랑스마트빌점]</td>\n",
       "      <td>서울특별시 중랑구 망우로36길 26 B동 101호(상봉동, 스마트빌)</td>\n",
       "    </tr>\n",
       "    <tr>\n",
       "      <th>9128</th>\n",
       "      <td>seven</td>\n",
       "      <td>[중랑신내로점]</td>\n",
       "      <td>서울특별시 중랑구 신내로 7 1층</td>\n",
       "    </tr>\n",
       "    <tr>\n",
       "      <th>9129</th>\n",
       "      <td>seven</td>\n",
       "      <td>[중화다인점]</td>\n",
       "      <td>서울특별시 중랑구 봉화산로 101-1</td>\n",
       "    </tr>\n",
       "    <tr>\n",
       "      <th>9130</th>\n",
       "      <td>seven</td>\n",
       "      <td>[중화점]</td>\n",
       "      <td>서울특별시 중랑구 동일로140길 25 (중화동)</td>\n",
       "    </tr>\n",
       "    <tr>\n",
       "      <th>9131</th>\n",
       "      <td>seven</td>\n",
       "      <td>[중화태릉점]</td>\n",
       "      <td>서울특별시 중랑구 중랑역로 28 (중화동)</td>\n",
       "    </tr>\n",
       "  </tbody>\n",
       "</table>\n",
       "<p>9132 rows × 3 columns</p>\n",
       "</div>"
      ],
      "text/plain": [
       "      brand store_name                               store_addr\n",
       "0     seven     [간성읍점]                        강원도 고성군 간성로 39-2 \n",
       "1     seven   [강릉5주공점]                         강원도 강릉시 월대산로 43 \n",
       "2     seven   [강릉가작로점]                  강원도 강릉시 가작로274번길 19 1층 \n",
       "3     seven  [강릉강문스타점]               강원도 강릉시 창해로350번길 21 (강문동) \n",
       "4     seven    [강릉강문점]   강원도 강릉시 해안로 298-7 B블록 101호, 102호(강문동) \n",
       "...     ...        ...                                      ...\n",
       "9127  seven  [중랑스마트빌점]  서울특별시 중랑구 망우로36길 26 B동 101호(상봉동, 스마트빌) \n",
       "9128  seven   [중랑신내로점]                      서울특별시 중랑구 신내로 7 1층 \n",
       "9129  seven    [중화다인점]                    서울특별시 중랑구 봉화산로 101-1 \n",
       "9130  seven      [중화점]              서울특별시 중랑구 동일로140길 25 (중화동) \n",
       "9131  seven    [중화태릉점]                 서울특별시 중랑구 중랑역로 28 (중화동) \n",
       "\n",
       "[9132 rows x 3 columns]"
      ]
     },
     "execution_count": 6,
     "metadata": {},
     "output_type": "execute_result"
    }
   ],
   "source": [
    "df"
   ]
  },
  {
   "cell_type": "code",
   "execution_count": 11,
   "metadata": {},
   "outputs": [],
   "source": [
    "with open(\"C:/workspace/data/seven.pkl\", \"rb\") as f:\n",
    "    star = pickle.load(f)"
   ]
  },
  {
   "cell_type": "code",
   "execution_count": 13,
   "metadata": {},
   "outputs": [
    {
     "data": {
      "text/plain": [
       "9085"
      ]
     },
     "execution_count": 13,
     "metadata": {},
     "output_type": "execute_result"
    }
   ],
   "source": [
    "star.__len__()"
   ]
  }
 ],
 "metadata": {
  "kernelspec": {
   "display_name": "Python 3",
   "language": "python",
   "name": "python3"
  },
  "language_info": {
   "codemirror_mode": {
    "name": "ipython",
    "version": 3
   },
   "file_extension": ".py",
   "mimetype": "text/x-python",
   "name": "python",
   "nbconvert_exporter": "python",
   "pygments_lexer": "ipython3",
   "version": "3.11.2"
  },
  "orig_nbformat": 4,
  "vscode": {
   "interpreter": {
    "hash": "c15598462d603a075a10cb78d6f96524a9963393ee2ee1195ae5721714cd3a39"
   }
  }
 },
 "nbformat": 4,
 "nbformat_minor": 2
}
